{
 "cells": [
  {
   "cell_type": "markdown",
   "id": "83c1e731",
   "metadata": {},
   "source": [
    "# Given an array, find the average of all contiguous subarrays of size ‘K’ in it.\n",
    "\n",
    "Let’s understand this problem with a real input:\n",
    "\n",
    "Array: [1, 3, 2, 6, -1, 4, 1, 8, 2], K=5\n",
    "Here, we are asked to find the average of all contiguous subarrays of size ‘5’ in the given array. Let’s solve this:\n",
    "\n",
    "(1+3+2+6−1)/5=>2.2\n",
    "The average of next 5 numbers (subarray from index 1-5) is: \n",
    "\n",
    "Here is the final output containing the averages of all contiguous subarrays of size 5:\n",
    "\n",
    "Output: [2.2, 2.8, 2.4, 3.6, 2.8]"
   ]
  },
  {
   "cell_type": "code",
   "execution_count": 2,
   "id": "79472233",
   "metadata": {},
   "outputs": [
    {
     "name": "stdout",
     "output_type": "stream",
     "text": [
      "[2.2, 2.8, 2.4, 3.6, 2.8]\n"
     ]
    }
   ],
   "source": [
    "def average_contigous_array(arr, k):\n",
    "    window_sum = 0\n",
    "    result = []\n",
    "    window_start = 0\n",
    "    for window_end in range(len(arr)):\n",
    "        window_sum += arr[window_end]\n",
    "\n",
    "        if window_end >= k - 1:\n",
    "            result.append(float(window_sum/k))\n",
    "            window_sum -= arr[window_start]\n",
    "            window_start += 1\n",
    "\n",
    "    return result\n",
    "\n",
    "print(average_contigous_array([1, 3, 2, 6, -1, 4, 1, 8, 2],5))"
   ]
  },
  {
   "cell_type": "code",
   "execution_count": null,
   "id": "752f156c",
   "metadata": {},
   "outputs": [],
   "source": []
  }
 ],
 "metadata": {
  "kernelspec": {
   "display_name": "base",
   "language": "python",
   "name": "python3"
  },
  "language_info": {
   "codemirror_mode": {
    "name": "ipython",
    "version": 3
   },
   "file_extension": ".py",
   "mimetype": "text/x-python",
   "name": "python",
   "nbconvert_exporter": "python",
   "pygments_lexer": "ipython3",
   "version": "3.10.13"
  }
 },
 "nbformat": 4,
 "nbformat_minor": 5
}
