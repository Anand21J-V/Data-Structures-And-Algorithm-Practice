{
 "cells": [
  {
   "cell_type": "markdown",
   "id": "8d499403",
   "metadata": {},
   "source": [
    "\n",
    "#### Problem 2: Longest Substring with At Most K Distinct Characters\n",
    "Given a string `s` and an integer `k`, find the length of the longest substring that contains at most `k` distinct characters.\n",
    "\n",
    "**Constraints:**\n",
    "- 1 <= len(s) <= 10^5\n",
    "- 0 <= k <= len(s)\n",
    "- `s` contains only lowercase English letters\n",
    "\n",
    "**Example:**\n",
    "```\n",
    "Input: s = \"eceba\", k = 2\n",
    "Output: 3\n",
    "Explanation: The substring \"ece\" has 2 distinct characters ('e' and 'c') and length 3.\n"
   ]
  },
  {
   "cell_type": "markdown",
   "id": "4618de55",
   "metadata": {},
   "source": []
  },
  {
   "cell_type": "code",
   "execution_count": 14,
   "id": "40bdc95e",
   "metadata": {},
   "outputs": [
    {
     "name": "stdout",
     "output_type": "stream",
     "text": [
      "4\n"
     ]
    }
   ],
   "source": [
    "def longest_substring(str, k):\n",
    "    window_start = 0\n",
    "    max_length = 0\n",
    "    char_frequency = {}\n",
    "\n",
    "    for window_end in range(len(str)):\n",
    "        right_char = str[window_end]\n",
    "        if right_char not in char_frequency:\n",
    "            char_frequency[right_char] = 0\n",
    "        char_frequency[right_char] += 1\n",
    "\n",
    "        if len(char_frequency) > k:\n",
    "            left_char = str[window_start]\n",
    "            char_frequency[left_char] -= 1\n",
    "            window_start += 1\n",
    "\n",
    "        max_length = max(max_length, window_end - window_start + 1)\n",
    "\n",
    "    return max_length     \n",
    "           \n",
    "print(longest_substring((\"eceeba\"),2))"
   ]
  },
  {
   "cell_type": "code",
   "execution_count": null,
   "id": "f12981e4",
   "metadata": {},
   "outputs": [],
   "source": []
  }
 ],
 "metadata": {
  "kernelspec": {
   "display_name": "base",
   "language": "python",
   "name": "python3"
  },
  "language_info": {
   "codemirror_mode": {
    "name": "ipython",
    "version": 3
   },
   "file_extension": ".py",
   "mimetype": "text/x-python",
   "name": "python",
   "nbconvert_exporter": "python",
   "pygments_lexer": "ipython3",
   "version": "3.10.13"
  }
 },
 "nbformat": 4,
 "nbformat_minor": 5
}
