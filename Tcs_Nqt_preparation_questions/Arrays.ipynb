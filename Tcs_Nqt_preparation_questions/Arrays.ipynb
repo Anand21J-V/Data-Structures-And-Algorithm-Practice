{
 "cells": [
  {
   "cell_type": "markdown",
   "id": "14309130",
   "metadata": {},
   "source": [
    "# FIND THE SMALLEST ELEMENT IN AN ARRAY"
   ]
  },
  {
   "cell_type": "code",
   "execution_count": 1,
   "id": "4cbf6a66",
   "metadata": {},
   "outputs": [
    {
     "name": "stdout",
     "output_type": "stream",
     "text": [
      "1\n"
     ]
    }
   ],
   "source": [
    "arr = [10, 8, 6, 5, 1]\n",
    "\n",
    "def smallest_number(arr):\n",
    "    minimum = arr[0]  # Initialize with the first element of the array\n",
    "    for i in range(1, len(arr)):\n",
    "        if arr[i] < minimum:\n",
    "            minimum = arr[i]\n",
    "    return minimum\n",
    "\n",
    "print(smallest_number(arr))"
   ]
  },
  {
   "cell_type": "markdown",
   "id": "65a0e06e",
   "metadata": {},
   "source": [
    "# FIND THE LARGEST ELEMENT IN AN ARRAY"
   ]
  },
  {
   "cell_type": "code",
   "execution_count": 3,
   "id": "b94db2dc",
   "metadata": {},
   "outputs": [
    {
     "name": "stdout",
     "output_type": "stream",
     "text": [
      "80\n"
     ]
    }
   ],
   "source": [
    "arr = [1,2,5,6,3,4,80]\n",
    "\n",
    "def largest_element(arr):\n",
    "    maximum = arr[0]\n",
    "    n = len(arr)\n",
    "\n",
    "    for i in range(1,len(arr)):\n",
    "        if arr[i] > maximum:\n",
    "            maximum = arr[i]\n",
    "\n",
    "    return maximum\n",
    "\n",
    "print(largest_element(arr))        \n"
   ]
  },
  {
   "cell_type": "markdown",
   "id": "54b160ec",
   "metadata": {},
   "source": [
    "# Second Smallest and Second Largest element in an array"
   ]
  },
  {
   "cell_type": "code",
   "execution_count": null,
   "id": "bb7cb1b5",
   "metadata": {},
   "outputs": [],
   "source": [
    "arr = [10,5,6,61,23,81,100]\n",
    "\n",
    "def second_smallest_and_largest(arr):\n",
    "    largest = arr[0]\n",
    "    second_largest = -1\n",
    "\n",
    "    n = len(arr)\n",
    "    for i in range(1,n):\n",
    "        if arr[i] > largest:\n",
    "            second_largest = largest\n",
    "            largest = arr[i]\n",
    "            \n",
    "        "
   ]
  },
  {
   "cell_type": "markdown",
   "id": "3429263d",
   "metadata": {},
   "source": [
    "# Count frequency of each element in the array"
   ]
  },
  {
   "cell_type": "code",
   "execution_count": null,
   "id": "29c4cac8",
   "metadata": {},
   "outputs": [
    {
     "name": "stdout",
     "output_type": "stream",
     "text": [
      "10 3\n",
      "5 2\n",
      "15 1\n"
     ]
    }
   ],
   "source": [
    "\n",
    "def Frequency(arr, n):\n",
    "    mp = {}\n",
    "    for i in range(n):\n",
    "        if arr[i] in mp:\n",
    "            mp[arr[i]] += 1\n",
    "        else:\n",
    "            mp[arr[i]] = 1\n",
    "    for x in mp:\n",
    "        print(x, mp[x])\n",
    "\n",
    "\n",
    "if __name__ == '__main__':\n",
    "    arr = [10, 5, 10, 15, 10, 5]\n",
    "    n = len(arr)\n",
    "\n",
    "    Frequency(arr, n)"
   ]
  },
  {
   "cell_type": "markdown",
   "id": "4993975a",
   "metadata": {},
   "source": [
    "# Average of all the elements in the array"
   ]
  },
  {
   "cell_type": "code",
   "execution_count": 4,
   "id": "f21a56d6",
   "metadata": {},
   "outputs": [
    {
     "name": "stdout",
     "output_type": "stream",
     "text": [
      "1.8333333333333333\n"
     ]
    }
   ],
   "source": [
    "def average(arr):\n",
    "    n = len(arr)\n",
    "    sum = 0\n",
    "\n",
    "    for i in arr:\n",
    "        sum += i\n",
    "\n",
    "    print(sum/n)\n",
    "\n",
    "if __name__ == '__main__':\n",
    "    arr = [1,2,1,1,5,1]\n",
    "    n = len(arr)\n",
    "\n",
    "    average(arr)   "
   ]
  },
  {
   "cell_type": "markdown",
   "id": "8601d8b7",
   "metadata": {},
   "source": [
    "# Find Median of the given Array"
   ]
  },
  {
   "cell_type": "code",
   "execution_count": 7,
   "id": "d5048488",
   "metadata": {},
   "outputs": [
    {
     "name": "stdout",
     "output_type": "stream",
     "text": [
      "Median: 1.0\n"
     ]
    }
   ],
   "source": [
    "def merge(arr1, arr2):\n",
    "    i = 0\n",
    "    j = 0\n",
    "    combined = []\n",
    "\n",
    "    while i < len(arr1) and j < len(arr2):\n",
    "        if arr1[i] < arr2[j]:\n",
    "            combined.append(arr1[i])\n",
    "            i += 1\n",
    "        else:\n",
    "            combined.append(arr2[j])\n",
    "            j += 1 \n",
    "\n",
    "    while i < len(arr1):\n",
    "        combined.append(arr1[i])\n",
    "        i += 1\n",
    "\n",
    "    while j < len(arr2):\n",
    "        combined.append(arr2[j])\n",
    "        j += 1\n",
    "\n",
    "    return combined                     \n",
    "\n",
    "def merge_sort(arr):\n",
    "    if len(arr) <= 1:\n",
    "        return arr\n",
    "\n",
    "    mid_index = len(arr)  // 2\n",
    "    left_half = merge_sort(arr[:mid_index])\n",
    "    right_half = merge_sort(arr[mid_index:])\n",
    "    return merge(left_half, right_half)\n",
    "\n",
    "def median(arr):\n",
    "    sorted_array = merge_sort(arr)\n",
    "    n = len(sorted_array)\n",
    "    mid = n // 2\n",
    "\n",
    "    if n % 2 == 1:\n",
    "        return sorted_array[mid]\n",
    "    else:\n",
    "        return (sorted_array[mid - 1] + sorted_array[mid]) / 2\n",
    "\n",
    "if __name__ == '__main__':\n",
    "    arr = [1, 2, 1, 1, 5, 1]\n",
    "    print(\"Median:\", median(arr))\n"
   ]
  },
  {
   "cell_type": "markdown",
   "id": "571c4b87",
   "metadata": {},
   "source": [
    "# Remove Duplicates from unsorted array"
   ]
  },
  {
   "cell_type": "code",
   "execution_count": 4,
   "id": "6a253d88",
   "metadata": {},
   "outputs": [
    {
     "name": "stdout",
     "output_type": "stream",
     "text": [
      "Non-Duplicated: [1, 2, 5]\n"
     ]
    }
   ],
   "source": [
    "#User function Template for python3\n",
    "\n",
    "\n",
    "def removeDuplicate(arr):\n",
    "    seen = {}\n",
    "    combined = []\n",
    "    for i in range(len(arr)):\n",
    "        if arr[i] not in seen:\n",
    "            combined.append(arr[i])\n",
    "            seen[arr[i]] = 1\n",
    "        \n",
    "    return combined     \n",
    "\n",
    "if __name__ == '__main__':\n",
    "    arr = [1, 2, 1, 1, 5, 1]\n",
    "    print(\"Non-Duplicated:\", removeDuplicate(arr))       \n"
   ]
  },
  {
   "cell_type": "markdown",
   "id": "80781de3",
   "metadata": {},
   "source": [
    "# Adding Element in an Array\n",
    "\n",
    "## Problem Statement: Given an array of N integers, write a program to add an array element at the beginning, end, and at a specific position."
   ]
  },
  {
   "cell_type": "code",
   "execution_count": 5,
   "id": "7d4b904d",
   "metadata": {},
   "outputs": [
    {
     "name": "stdout",
     "output_type": "stream",
     "text": [
      "Output: [6, 1, 2, 8, 3, 4, 5, 7]\n"
     ]
    }
   ],
   "source": [
    "class ArrayManipulator:\n",
    "    def __init__(self, arr):\n",
    "        self.arr = arr\n",
    "\n",
    "    def insert_beginning(self, element):\n",
    "        self.arr = [element] + self.arr\n",
    "\n",
    "    def insert_end(self, element):\n",
    "        self.arr.append(element)\n",
    "\n",
    "    def insert_at_position(self, element, position):\n",
    "        # position is 1-based index\n",
    "        if position < 1 or position > len(self.arr) + 1:\n",
    "            print(\"Invalid position!\")\n",
    "        else:\n",
    "            self.arr = self.arr[:position-1] + [element] + self.arr[position-1:]\n",
    "\n",
    "    def get_array(self):\n",
    "        return self.arr\n",
    "\n",
    "\n",
    "# Example usage\n",
    "arr = [1, 2, 3, 4, 5]\n",
    "manipulator = ArrayManipulator(arr)\n",
    "\n",
    "manipulator.insert_beginning(6)   # Add 6 at the beginning\n",
    "manipulator.insert_end(7)         # Add 7 at the end\n",
    "manipulator.insert_at_position(8, 4)  # Add 8 at position 4 (1-based index)\n",
    "\n",
    "# Final Output\n",
    "print(\"Output:\", manipulator.get_array())\n"
   ]
  },
  {
   "cell_type": "markdown",
   "id": "21395ad9",
   "metadata": {},
   "source": [
    "# "
   ]
  },
  {
   "cell_type": "markdown",
   "id": "0c79e42d",
   "metadata": {},
   "source": [
    "#"
   ]
  }
 ],
 "metadata": {
  "kernelspec": {
   "display_name": "base",
   "language": "python",
   "name": "python3"
  },
  "language_info": {
   "codemirror_mode": {
    "name": "ipython",
    "version": 3
   },
   "file_extension": ".py",
   "mimetype": "text/x-python",
   "name": "python",
   "nbconvert_exporter": "python",
   "pygments_lexer": "ipython3",
   "version": "3.10.13"
  }
 },
 "nbformat": 4,
 "nbformat_minor": 5
}
