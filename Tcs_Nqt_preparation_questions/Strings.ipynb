{
 "cells": [
  {
   "cell_type": "markdown",
   "id": "d32dcf1b",
   "metadata": {},
   "source": [
    "# Check if a given string is palindrome or not"
   ]
  },
  {
   "cell_type": "code",
   "execution_count": 6,
   "id": "0cd8dc8e",
   "metadata": {},
   "outputs": [
    {
     "name": "stdout",
     "output_type": "stream",
     "text": [
      "True\n"
     ]
    }
   ],
   "source": [
    "def palindrome(string):\n",
    "    n = len(string)\n",
    "\n",
    "    first = 0\n",
    "    last = n - 1\n",
    "\n",
    "    while first <= last:\n",
    "        if string[first] == string[last]:\n",
    "            first += 1 \n",
    "            last -= 1\n",
    "        else:\n",
    "            return False\n",
    "\n",
    "    return True\n",
    "\n",
    "print(palindrome(\"MALAYALAM\"))"
   ]
  },
  {
   "cell_type": "markdown",
   "id": "aadade4b",
   "metadata": {},
   "source": [
    "# Count number of vowels, consonants, spaces in String"
   ]
  },
  {
   "cell_type": "markdown",
   "id": "a93e4bd5",
   "metadata": {},
   "source": [
    "# Example 1:\n",
    "## Input: string str=”Take u forward is Awesome”\n",
    "## Output: \n",
    "## Vowels: 10\n",
    "## Consonants: 11\n",
    "## White spaces: 4"
   ]
  },
  {
   "cell_type": "code",
   "execution_count": 10,
   "id": "5216a858",
   "metadata": {},
   "outputs": [
    {
     "name": "stdout",
     "output_type": "stream",
     "text": [
      "Vowels 10\n",
      "consonants 11\n",
      "white_spaces 4\n"
     ]
    }
   ],
   "source": [
    "def vcw(string):\n",
    "    v = [\"a\",\"e\",\"i\",\"o\",\"u\",\"A\",\"E\",\"I\",\"O\",\"U\"]\n",
    "    vowels = 0\n",
    "    consonants = 0\n",
    "    white_spaces = 0 \n",
    "\n",
    "    for i in string:\n",
    "        if i in v:\n",
    "            vowels += 1\n",
    "        elif i == \" \":\n",
    "            white_spaces += 1\n",
    "        else:\n",
    "            consonants += 1\n",
    "\n",
    "    print(\"Vowels\", vowels)\n",
    "    print(\"consonants\", consonants)\n",
    "    print(\"white_spaces\", white_spaces)        \n",
    "\n",
    "\n",
    "vcw(\"Take u forward is Awesome\")\n",
    "\n"
   ]
  },
  {
   "cell_type": "code",
   "execution_count": null,
   "id": "2588c323",
   "metadata": {},
   "outputs": [
    {
     "name": "stdout",
     "output_type": "stream",
     "text": [
      "Vowels: 10\n",
      "Consonants: 11\n",
      "White Spaces: 4\n"
     ]
    }
   ],
   "source": [
    "\n",
    "def vcw(string):\n",
    "    v = [\"a\", \"e\", \"i\", \"o\", \"u\"]\n",
    "    vowels = 0\n",
    "    consonants = 0\n",
    "    white_spaces = 0\n",
    "\n",
    "    for i in string:\n",
    "        if i.lower() in v:\n",
    "            vowels += 1\n",
    "        elif i == \" \":\n",
    "            white_spaces += 1\n",
    "        elif i.isalpha():\n",
    "            consonants += 1\n",
    "\n",
    "    print(\"Vowels:\", vowels)\n",
    "    print(\"Consonants:\", consonants)\n",
    "    print(\"White Spaces:\", white_spaces)\n",
    "\n",
    "# Example usage\n",
    "vcw(\"Take u forward is Awesome\")\n",
    "\n"
   ]
  },
  {
   "cell_type": "markdown",
   "id": "8d8b7bde",
   "metadata": {},
   "source": [
    "# Find the ASCII value of a character"
   ]
  },
  {
   "cell_type": "code",
   "execution_count": 15,
   "id": "f82d0cdf",
   "metadata": {},
   "outputs": [
    {
     "name": "stdout",
     "output_type": "stream",
     "text": [
      "The ASCII value of 'z' is: 122\n"
     ]
    }
   ],
   "source": [
    "def print_ascii_value(char):\n",
    "    if len(char) != 1:\n",
    "        print(\"Please enter a single character.\")\n",
    "        return\n",
    "    \n",
    "    ascii_value = ord(char)\n",
    "    print(f\"The ASCII value of '{char}' is: {ascii_value}\")\n",
    "\n",
    "# Example usage\n",
    "print_ascii_value('z')\n"
   ]
  },
  {
   "cell_type": "markdown",
   "id": "479e44ea",
   "metadata": {},
   "source": [
    "# Remove all vowels from the String"
   ]
  },
  {
   "cell_type": "code",
   "execution_count": 18,
   "id": "3b658e23",
   "metadata": {},
   "outputs": [
    {
     "name": "stdout",
     "output_type": "stream",
     "text": [
      "tk  frwrd\n"
     ]
    }
   ],
   "source": [
    "def remove_vowels(string):\n",
    "    vowels = \"aeiouAEIOU\"\n",
    "    result = \"\"\n",
    "\n",
    "    for char in string:\n",
    "        if char not in vowels:\n",
    "            result += char \n",
    "\n",
    "    return result\n",
    "\n",
    "# Example usage\n",
    "print(remove_vowels(\"take u forward\"))\n"
   ]
  },
  {
   "cell_type": "markdown",
   "id": "407fd1d8",
   "metadata": {},
   "source": [
    "# Remove spaces from the String"
   ]
  },
  {
   "cell_type": "code",
   "execution_count": 20,
   "id": "f96d8a28",
   "metadata": {},
   "outputs": [
    {
     "name": "stdout",
     "output_type": "stream",
     "text": [
      "takeuforward\n"
     ]
    }
   ],
   "source": [
    "def remove_spaces(string):\n",
    "    result = \"\"\n",
    "\n",
    "    for char in string:\n",
    "        if char != \" \":\n",
    "            result += char \n",
    "\n",
    "    return result\n",
    "\n",
    "# Example usage\n",
    "print(remove_spaces(\"take u forward\"))\n"
   ]
  },
  {
   "cell_type": "markdown",
   "id": "dbb18f9e",
   "metadata": {},
   "source": [
    "# Remove characters from a string except alphabets"
   ]
  },
  {
   "cell_type": "code",
   "execution_count": 2,
   "id": "de328c7f",
   "metadata": {},
   "outputs": [
    {
     "name": "stdout",
     "output_type": "stream",
     "text": [
      "takeuforward\n"
     ]
    }
   ],
   "source": [
    "def solve(string, n):\n",
    "    ans = []\n",
    "\n",
    "    for i in range(n):\n",
    "        ascii_val = ord(string[i])  # get ASCII value\n",
    "\n",
    "        # if character is an alphabet\n",
    "        if (65 <= ascii_val <= 90) or (97 <= ascii_val <= 122):\n",
    "            ans.append(string[i])\n",
    "\n",
    "    return ''.join(ans)\n",
    "\n",
    "\n",
    "if __name__ == \"__main__\":\n",
    "    string = \"take12% *&u ^$#forward\"\n",
    "    n = len(string)\n",
    "    print(solve(string, n))\n"
   ]
  },
  {
   "cell_type": "markdown",
   "id": "3047b33e",
   "metadata": {},
   "source": [
    "# Reverse a String"
   ]
  },
  {
   "cell_type": "code",
   "execution_count": 5,
   "id": "f2dcd24f",
   "metadata": {},
   "outputs": [
    {
     "name": "stdout",
     "output_type": "stream",
     "text": [
      "DNANA\n"
     ]
    }
   ],
   "source": [
    "def reverse(string):\n",
    "    chars = list(string)\n",
    "    first = 0 \n",
    "    last = len(chars) - 1\n",
    "\n",
    "    while first <= last:\n",
    "        chars[first], chars[last] = chars[last], chars[first]\n",
    "        first += 1\n",
    "        last -= 1\n",
    "\n",
    "    return ''.join(chars)\n",
    "\n",
    "print(reverse(\"ANAND\")) \n"
   ]
  },
  {
   "cell_type": "markdown",
   "id": "c687b79a",
   "metadata": {},
   "source": [
    "# NEXT QUESTION - TCS"
   ]
  },
  {
   "cell_type": "markdown",
   "id": "a5e82dd9",
   "metadata": {},
   "source": []
  }
 ],
 "metadata": {
  "kernelspec": {
   "display_name": "base",
   "language": "python",
   "name": "python3"
  },
  "language_info": {
   "codemirror_mode": {
    "name": "ipython",
    "version": 3
   },
   "file_extension": ".py",
   "mimetype": "text/x-python",
   "name": "python",
   "nbconvert_exporter": "python",
   "pygments_lexer": "ipython3",
   "version": "3.10.13"
  }
 },
 "nbformat": 4,
 "nbformat_minor": 5
}
