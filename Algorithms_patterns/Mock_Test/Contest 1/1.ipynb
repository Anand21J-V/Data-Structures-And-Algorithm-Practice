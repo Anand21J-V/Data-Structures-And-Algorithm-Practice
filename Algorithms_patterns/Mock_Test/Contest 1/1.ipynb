{
 "cells": [
  {
   "cell_type": "markdown",
   "id": "3bc4f8c2",
   "metadata": {},
   "source": [
    "\n",
    "\n",
    "#### Problem 1: Maximum Sum of K Consecutive Elements\n",
    "Given an array of integers `nums` and an integer `k`, find the maximum sum of any `k` consecutive elements in the array. If the array length is less than `k`, return 0.\n",
    "\n",
    "**Constraints:**\n",
    "- 1 <= len(nums) <= 10^5\n",
    "- -10^4 <= nums[i] <= 10^4\n",
    "- 1 <= k <= len(nums)\n",
    "\n",
    "**Example:**\n",
    "```\n",
    "Input: nums = [1, 4, 2, 10, 2, 3, 1, 0, 20], k = 4\n",
    "Output: 35\n",
    "Explanation: The subarray [4, 2, 10, 2]   to 18, [2, 10, 2, 3] sums to 17, but [10, 2, 3, 1, 0, 20] with k=4 elements from index 3 to 6 (sum = 35) is maximum."
   ]
  },
  {
   "cell_type": "code",
   "execution_count": 23,
   "id": "97d0a43a",
   "metadata": {},
   "outputs": [
    {
     "name": "stdout",
     "output_type": "stream",
     "text": [
      "24\n"
     ]
    }
   ],
   "source": [
    "def maximum_subarray(arr, k):\n",
    "    window_start = 0\n",
    "    window_sum = 0\n",
    "    maximum_sum = 0\n",
    "\n",
    "    for window_end in range(len(arr)):\n",
    "        window_sum += arr[window_end]\n",
    "        \n",
    "        if (window_end - window_start + 1) == k:\n",
    "            maximum_sum = max(maximum_sum, window_sum)\n",
    "            window_sum -= arr[window_start]\n",
    "            window_start += 1\n",
    "\n",
    "    return maximum_sum\n",
    "\n",
    "print(maximum_subarray([1, 4, 2, 10, 2, 3, 1, 0, 20,1],4))        "
   ]
  }
 ],
 "metadata": {
  "language_info": {
   "name": "python"
  }
 },
 "nbformat": 4,
 "nbformat_minor": 5
}
