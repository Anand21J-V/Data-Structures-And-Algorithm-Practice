{
 "cells": [
  {
   "cell_type": "markdown",
   "id": "ef6221a9",
   "metadata": {},
   "source": [
    "# Merge Intervals (medium)"
   ]
  },
  {
   "cell_type": "markdown",
   "id": "b69c08ff",
   "metadata": {},
   "source": [
    "### Problem Statement \n",
    "\n",
    "Given a list of intervals, merge all the overlapping intervals to produce a list that has only mutually exclusive intervals.\n",
    "\n",
    "Example 1:\n",
    "\n",
    "Intervals: [[1,4], [2,5], [7,9]]\n",
    "\n",
    "Output: [[1,5], [7,9]]\n",
    "\n",
    "Explanation: Since the first two intervals [1,4] and [2,5] overlap, we merged them into one [1,5].\n",
    "\n",
    "Example 2:\n",
    "\n",
    "Intervals: [[6,7], [2,4], [5,9]]\n",
    "\n",
    "Output: [[2,4], [5,9]]\n",
    "\n",
    "Explanation: Since the intervals [6,7] and [5,9] overlap, we merged them into one [5,9].\n",
    " \n",
    "Example 3:\n",
    "\n",
    "Intervals: [[1,4], [2,6], [3,5]]\n",
    "\n",
    "Output: [[1,6]]\n",
    "\n",
    "Explanation: Since all the given intervals overlap, we merged them into one."
   ]
  },
  {
   "cell_type": "code",
   "execution_count": null,
   "id": "609831a8",
   "metadata": {},
   "outputs": [
    {
     "name": "stdout",
     "output_type": "stream",
     "text": [
      "Merged Intervals: \n",
      "[1,5]\n",
      "\n",
      "[7,9]\n",
      "\n"
     ]
    }
   ],
   "source": [
    "class Intervals:\n",
    "    def __init__(self, start, end):\n",
    "        self.start = start\n",
    "        self.end = end\n",
    "\n",
    "    def print_intervals(self):\n",
    "        print(\"[\" + str(self.start) + \",\" + str(self.end) + \"]\")\n",
    "\n",
    "def merge_intervals(intervals):\n",
    "    if len(intervals) < 2:\n",
    "        return intervals\n",
    "\n",
    "    # Sorting the intervals according to the start point of the Intervals\n",
    "    intervals.sort(key=lambda x: x.start)\n",
    "\n",
    "    merge_interval = []\n",
    "    start = intervals[0].start\n",
    "    end = intervals[0].end\n",
    "\n",
    "    for i in range(1, len(intervals)):\n",
    "        current = intervals[i]\n",
    "        if current.start <= end:\n",
    "            # Overlapping exists\n",
    "            end = max(end, current.end)\n",
    "        else:\n",
    "            # If not overlapping then append it to the merged_intervals\n",
    "            merge_interval.append(Intervals(start, end))\n",
    "            start = current.start\n",
    "            end = current.end\n",
    "\n",
    "    merge_interval.append(Intervals(start, end))\n",
    "    return merge_interval\n",
    "\n",
    "def main():\n",
    "    print(\"Merged Intervals:\")\n",
    "    for i in merge_intervals([Intervals(1, 4), Intervals(2, 5), Intervals(7, 9)]):\n",
    "        i.print_intervals()\n",
    "        print()\n",
    "\n",
    "main()\n"
   ]
  },
  {
   "cell_type": "code",
   "execution_count": null,
   "id": "6427a832",
   "metadata": {},
   "outputs": [],
   "source": []
  }
 ],
 "metadata": {
  "kernelspec": {
   "display_name": "base",
   "language": "python",
   "name": "python3"
  },
  "language_info": {
   "codemirror_mode": {
    "name": "ipython",
    "version": 3
   },
   "file_extension": ".py",
   "mimetype": "text/x-python",
   "name": "python",
   "nbconvert_exporter": "python",
   "pygments_lexer": "ipython3",
   "version": "3.10.13"
  }
 },
 "nbformat": 4,
 "nbformat_minor": 5
}
