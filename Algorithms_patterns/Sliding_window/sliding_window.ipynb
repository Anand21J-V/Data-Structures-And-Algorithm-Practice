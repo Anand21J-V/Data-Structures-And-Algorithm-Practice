{
 "cells": [
  {
   "cell_type": "markdown",
   "id": "e4fcc8e3",
   "metadata": {},
   "source": [
    "# Given an array, find the average of all contiguous subarrays of size ‘K’ in it.\n",
    "\n",
    "Let’s understand this problem with a real input:\n",
    "\n",
    "Array: [1, 3, 2, 6, -1, 4, 1, 8, 2], K=5\n",
    "Here, we are asked to find the average of all contiguous subarrays of size ‘5’ in the given array. Let’s solve this:\n",
    "\n",
    "(1+3+2+6−1)/5=>2.2\n",
    "The average of next 5 numbers (subarray from index 1-5) is: \n",
    "\n",
    "Here is the final output containing the averages of all contiguous subarrays of size 5:\n",
    "\n",
    "Output: [2.2, 2.8, 2.4, 3.6, 2.8]"
   ]
  },
  {
   "cell_type": "code",
   "execution_count": 6,
   "id": "3491c241",
   "metadata": {},
   "outputs": [
    {
     "name": "stdout",
     "output_type": "stream",
     "text": [
      "[2.6666666666666665, 2.3333333333333335, 3.0, 2.0, 3.3333333333333335, 4.333333333333333, 6.0]\n"
     ]
    }
   ],
   "source": [
    "def average_subarrays(k, arr):\n",
    "    result = []\n",
    "    window_start = 0\n",
    "    window_sum = 0\n",
    "\n",
    "    for window_end in range(len(arr)):\n",
    "        window_sum += arr[window_end]\n",
    "\n",
    "        if window_end >= k - 1:\n",
    "            result.append(float(window_sum/k))\n",
    "            window_sum -= arr[window_start]\n",
    "            window_start += 1\n",
    "\n",
    "    return result\n",
    "\n",
    "print(average_subarrays(3,[2,1,5,1,3,2,5,6,7])) "
   ]
  },
  {
   "cell_type": "markdown",
   "id": "ec76af66",
   "metadata": {},
   "source": [
    "# Maximum Sum Subarray of Size K (easy)\n",
    "\n",
    "Problem Statement #\n",
    "Given an array of positive numbers and a positive number ‘k’, find the maximum sum of any contiguous subarray of size ‘k’.\n",
    "\n",
    "Example 1:\n",
    "\n",
    "Input: [2, 1, 5, 1, 3, 2], k=3 \n",
    "Output: 9\n",
    "Explanation: Subarray with maximum sum is [5, 1, 3].\n",
    "Example 2:\n",
    "\n",
    "Input: [2, 3, 4, 1, 5], k=2 \n",
    "Output: 7\n",
    "Explanation: Subarray with maximum sum is [3, 4]."
   ]
  },
  {
   "cell_type": "code",
   "execution_count": 2,
   "id": "bce8aa6c",
   "metadata": {},
   "outputs": [
    {
     "name": "stdout",
     "output_type": "stream",
     "text": [
      "9\n"
     ]
    }
   ],
   "source": [
    "def max_sub_array(k, arr):\n",
    "    max_sum = 0\n",
    "    window_sum = 0\n",
    "    window_start = 0\n",
    "\n",
    "    for window_end in range(len(arr)):\n",
    "        window_sum += arr[window_end]\n",
    "\n",
    "        if window_end >= k-1:\n",
    "            max_sum  = max(max_sum, window_sum)\n",
    "            window_sum -= arr[window_start]\n",
    "            window_start += 1\n",
    "\n",
    "    return max_sum\n",
    "\n",
    "print(max_sub_array(3,[2,1,5,1,3,2]))        \n"
   ]
  },
  {
   "cell_type": "markdown",
   "id": "dcf843b1",
   "metadata": {},
   "source": [
    "# "
   ]
  },
  {
   "cell_type": "markdown",
   "id": "991864c5",
   "metadata": {},
   "source": [
    "# Smallest Subarray with a given sum (easy)\n",
    "\n",
    "Problem Statement \n",
    "\n",
    "Given an array of positive numbers and a positive number ‘S’, find the length of the smallest contiguous subarray whose sum is greater than or equal to ‘S’. Return 0, if no such subarray exists."
   ]
  },
  {
   "cell_type": "code",
   "execution_count": 1,
   "id": "f43615ba",
   "metadata": {},
   "outputs": [
    {
     "name": "stdout",
     "output_type": "stream",
     "text": [
      "2\n"
     ]
    }
   ],
   "source": [
    "import math\n",
    "\n",
    "def smallest_subarray(target, arr):\n",
    "    window_start = 0\n",
    "    window_sum = 0\n",
    "    min_length = math.inf\n",
    "\n",
    "    for window_end in range(len(arr)):\n",
    "        window_sum += arr[window_end]\n",
    "\n",
    "        while window_sum >= target:\n",
    "            min_length = min(min_length, window_end - window_start + 1)\n",
    "            window_sum -= arr[window_start]\n",
    "            window_start += 1\n",
    "\n",
    "    if min_length == math.inf:\n",
    "        return 0\n",
    "\n",
    "    return min_length\n",
    "\n",
    "print(smallest_subarray(7,[2,3,1,2,4,3]))        \n"
   ]
  },
  {
   "cell_type": "markdown",
   "id": "6cbad5a7",
   "metadata": {},
   "source": [
    "# Longest Substring with K Distinct Characters (medium)\n",
    "\n",
    "## PROBLEM STATEMENT\n",
    "\n",
    "Given a string, find the length of the longest substring in it with no more than K distinct characters.\n",
    "\n",
    "Input: String=\"araaci\", K=2\n",
    "\n",
    "Output: 4\n",
    "\n",
    "Explanation: The longest substring with no more than '2' distinct characters is \"araa\"."
   ]
  },
  {
   "cell_type": "code",
   "execution_count": 3,
   "id": "93f308df",
   "metadata": {},
   "outputs": [
    {
     "name": "stdout",
     "output_type": "stream",
     "text": [
      "4\n"
     ]
    }
   ],
   "source": [
    "\n",
    "def longestKSubstr( s, k):\n",
    "    window_start = 0\n",
    "    max_length = 0\n",
    "    char_frequency = {}\n",
    "        \n",
    "    for window_end in range(len(s)):\n",
    "        right_char = s[window_end]\n",
    "        if right_char not in char_frequency:\n",
    "            char_frequency[right_char] = 0\n",
    "        char_frequency[right_char] += 1\n",
    "            \n",
    "        while len(char_frequency) > k:\n",
    "            left_char = s[window_start]\n",
    "            char_frequency[left_char] -= 1\n",
    "            if char_frequency[left_char] == 0:\n",
    "                del char_frequency[left_char]\n",
    "            window_start += 1    \n",
    "            \n",
    "        max_length = max(max_length, window_end - window_start + 1)\n",
    "        \n",
    "    return max_length    \n",
    "\n",
    "print(longestKSubstr(\"abaaca\",2))\n",
    "    "
   ]
  },
  {
   "cell_type": "markdown",
   "id": "02229748",
   "metadata": {},
   "source": [
    "# 3. Longest Substring Without Repeating Characters\n",
    "\n",
    "\n",
    "Solved\n",
    "Medium\n",
    "Topics\n",
    "premium lock icon\n",
    "Companies\n",
    "Hint\n",
    "Given a string s, find the length of the longest substring without duplicate characters.\n",
    "\n",
    " \n",
    "\n",
    "Example 1:\n",
    "\n",
    "Input: s = \"abcabcbb\"\n",
    "Output: 3\n",
    "Explanation: The answer is \"abc\", with the length of 3.\n",
    "Example 2:\n",
    "\n",
    "Input: s = \"bbbbb\"\n",
    "Output: 1\n",
    "Explanation: The answer is \"b\", with the length of 1.\n",
    "Example 3:\n",
    "\n",
    "Input: s = \"pwwkew\"\n",
    "Output: 3\n",
    "Explanation: The answer is \"wke\", with the length of 3.\n",
    "Notice that the answer must be a substring, \"pwke\" is a subsequence and not a substring.\n",
    " \n",
    "\n",
    "Constraints:\n",
    "\n",
    "0 <= s.length <= 5 * 104\n",
    "s consists of English letters, digits, symbols and spaces."
   ]
  },
  {
   "cell_type": "code",
   "execution_count": 2,
   "id": "aed35ae0",
   "metadata": {},
   "outputs": [
    {
     "name": "stdout",
     "output_type": "stream",
     "text": [
      "Longest Substring without repeating characters are: 3\n"
     ]
    }
   ],
   "source": [
    "def lengthOfLongestSubstring(s):\n",
    "    window_start = 0\n",
    "    max_length = 0\n",
    "    char_frequency =  {}\n",
    "    \n",
    "    for window_end in range(len(s)):\n",
    "        right_char = s[window_end]\n",
    "        if right_char not in char_frequency:\n",
    "            char_frequency[right_char] = 0\n",
    "        char_frequency[right_char] += 1\n",
    "\n",
    "        while char_frequency[right_char] > 1:\n",
    "            left_char = s[window_start]\n",
    "            char_frequency[left_char] -= 1\n",
    "            window_start += 1\n",
    "\n",
    "        max_length = max(max_length, window_end - window_start + 1)\n",
    "\n",
    "    return max_length\n",
    "\n",
    "print(\"Longest Substring without repeating characters are:\",lengthOfLongestSubstring(\"abcabcbc\"))            \n",
    "\n"
   ]
  },
  {
   "cell_type": "markdown",
   "id": "5f722656",
   "metadata": {},
   "source": [
    "# 904. Fruit Into Baskets\n",
    "Solved\n",
    "Medium\n",
    "Topics\n",
    "premium lock icon\n",
    "Companies\n",
    "You are visiting a farm that has a single row of fruit trees arranged from left to right. The trees are represented by an integer array fruits where fruits[i] is the type of fruit the ith tree produces.\n",
    "\n",
    "You want to collect as much fruit as possible. However, the owner has some strict rules that you must follow:\n",
    "\n",
    "You only have two baskets, and each basket can only hold a single type of fruit. There is no limit on the amount of fruit each basket can hold.\n",
    "Starting from any tree of your choice, you must pick exactly one fruit from every tree (including the start tree) while moving to the right. The picked fruits must fit in one of your baskets.\n",
    "Once you reach a tree with fruit that cannot fit in your baskets, you must stop.\n",
    "Given the integer array fruits, return the maximum number of fruits you can pick.\n",
    "\n",
    " \n",
    "\n",
    "Example 1:\n",
    "\n",
    "Input: fruits = [1,2,1]\n",
    "Output: 3\n",
    "Explanation: We can pick from all 3 trees.\n",
    "Example 2:\n",
    "\n",
    "Input: fruits = [0,1,2,2]\n",
    "Output: 3\n",
    "Explanation: We can pick from trees [1,2,2].\n",
    "If we had started at the first tree, we would only pick from trees [0,1].\n",
    "Example 3:\n",
    "\n",
    "Input: fruits = [1,2,3,2,2]\n",
    "Output: 4\n",
    "Explanation: We can pick from trees [2,3,2,2].\n",
    "If we had started at the first tree, we would only pick from trees [1,2].\n",
    " \n",
    "\n",
    "Constraints:\n",
    "\n",
    "1 <= fruits.length <= 105\n",
    "0 <= fruits[i] < fruits.length"
   ]
  },
  {
   "cell_type": "code",
   "execution_count": 5,
   "id": "fa7d62d8",
   "metadata": {},
   "outputs": [
    {
     "name": "stdout",
     "output_type": "stream",
     "text": [
      "3\n"
     ]
    }
   ],
   "source": [
    "def totalFruit(fruits) -> list:\n",
    "    window_start = 0\n",
    "    max_fruits = 0\n",
    "    fruits_frequency = {}\n",
    "\n",
    "    for window_end in range(len(fruits)):\n",
    "        right_fruit = fruits[window_end]\n",
    "        if right_fruit not in fruits_frequency:\n",
    "            fruits_frequency[right_fruit] = 0\n",
    "        fruits_frequency[right_fruit] += 1\n",
    "\n",
    "        while len(fruits_frequency) > 2:\n",
    "            left_fruit = fruits[window_start]\n",
    "            fruits_frequency[left_fruit] -= 1\n",
    "            if fruits_frequency[left_fruit] == 0:\n",
    "                del fruits_frequency[left_fruit]\n",
    "            window_start += 1\n",
    "\n",
    "        max_fruits = max(max_fruits, window_end - window_start + 1)\n",
    "    return max_fruits   \n",
    "\n",
    "print(totalFruit([1, 2, 1]))   "
   ]
  },
  {
   "cell_type": "markdown",
   "id": "4142a463",
   "metadata": {},
   "source": [
    "# No-repeat Substring (hard)\n",
    "\n",
    "Problem Statement \n",
    "Given a string, find the length of the longest substring which has no repeating characters.\n",
    "\n",
    "Example 1:\n",
    "\n",
    "Input: String=\"aabccbb\"\n",
    "Output: 3\n",
    "Explanation: The longest substring without any repeating characters is \"abc\".\n",
    "Example 2:\n",
    "\n",
    "Input: String=\"abbbb\"\n",
    "Output: 2\n",
    "Explanation: The longest substring without any repeating characters is \"ab\".\n",
    "Example 3:\n",
    "\n",
    "Input: String=\"abccde\"\n",
    "Output: 3\n",
    "Explanation: Longest substrings without any repeating characters are \"abc\" & \"cde\"."
   ]
  },
  {
   "cell_type": "code",
   "execution_count": 7,
   "id": "7777c487",
   "metadata": {},
   "outputs": [
    {
     "name": "stdout",
     "output_type": "stream",
     "text": [
      "3\n"
     ]
    }
   ],
   "source": [
    "def no_repeat_substring(s):\n",
    "    window_start = 0\n",
    "    max_length = 0\n",
    "    char_frequency = {}\n",
    "\n",
    "    for window_end in range(len(s)):\n",
    "        right_char = s[window_end]\n",
    "        if right_char not in char_frequency:\n",
    "            char_frequency[right_char] = 0\n",
    "        char_frequency[right_char] += 1\n",
    "\n",
    "        while char_frequency[right_char] > 1:\n",
    "            left_char = s[window_start]\n",
    "            char_frequency[left_char] -= 1\n",
    "            if char_frequency[left_char] == 0:\n",
    "                del char_frequency[left_char]\n",
    "            window_start += 1    \n",
    "        \n",
    "        max_length =  max(max_length, window_end - window_start + 1)\n",
    "\n",
    "    return max_length\n",
    "\n",
    "print(no_repeat_substring(\"aabbaaabc\"))\n",
    "\n"
   ]
  },
  {
   "cell_type": "markdown",
   "id": "42ec60ec",
   "metadata": {},
   "source": [
    "# 424. Longest Repeating Character Replacement - (Medium)\n",
    "\n",
    "You are given a string s and an integer k. You can choose any character of the string and change it to any other uppercase English character. You can perform this operation at most k times.\n",
    "\n",
    "Return the length of the longest substring containing the same letter you can get after performing the above operations.\n",
    "\n",
    "Example 1:\n",
    "\n",
    "Input: s = \"ABAB\", k = 2\n",
    "Output: 4\n",
    "Explanation: Replace the two 'A's with two 'B's or vice versa.\n",
    "Example 2:\n",
    "\n",
    "Input: s = \"AABABBA\", k = 1\n",
    "Output: 4\n",
    "Explanation: Replace the one 'A' in the middle with 'B' and form \"AABBBBA\".\n",
    "The substring \"BBBB\" has the longest repeating letters, which is 4.\n",
    "There may exists other ways to achieve this answer too.\n",
    " \n",
    "\n",
    "Constraints:\n",
    "\n",
    "1 <= s.length <= 105\n",
    "s consists of only uppercase English letters.\n",
    "0 <= k <= s.length"
   ]
  },
  {
   "cell_type": "code",
   "execution_count": 1,
   "id": "a3b25c47",
   "metadata": {},
   "outputs": [
    {
     "name": "stdout",
     "output_type": "stream",
     "text": [
      "5\n"
     ]
    }
   ],
   "source": [
    "def characterReplacement(str, k):\n",
    "    window_start = 0\n",
    "    max_length = 0\n",
    "    max_repeating_character = 0\n",
    "    char_frequency = {}\n",
    "\n",
    "    for window_end in range(len(str)):\n",
    "        right_char = str[window_end]\n",
    "        if right_char not in char_frequency:\n",
    "            char_frequency[right_char] = 0\n",
    "        char_frequency[right_char] += 1\n",
    "\n",
    "        max_repeating_character = max(max_repeating_character, char_frequency[right_char])    \n",
    "\n",
    "        if (window_end - window_start + 1 - max_repeating_character) > k:\n",
    "            left_char = str[window_start]\n",
    "            char_frequency[left_char] -= 1\n",
    "            window_start += 1\n",
    "\n",
    "        max_length = max(max_length, window_end - window_start + 1)\n",
    "\n",
    "    return max_length\n",
    "\n",
    "print(characterReplacement(\"aabccbb\",2))        "
   ]
  },
  {
   "cell_type": "markdown",
   "id": "fb13b41a",
   "metadata": {},
   "source": [
    "# 1004. Max Consecutive Ones III\n",
    "Given a binary array nums and an integer k, return the maximum number of consecutive 1's in the array if you can flip at most k 0's.\n",
    "\n",
    " \n",
    "\n",
    "Example 1:\n",
    "\n",
    "Input: nums = [1,1,1,0,0,0,1,1,1,1,0], k = 2\n",
    "\n",
    "Output: 6\n",
    "\n",
    "Explanation: [1,1,1,0,0,1,1,1,1,1,1]\n",
    "\n",
    "Bolded numbers were flipped from 0 to 1. The longest subarray is underlined.\n",
    "\n",
    "Example 2:\n",
    "\n",
    "Input: nums = [0,0,1,1,0,0,1,1,1,0,1,1,0,0,0,1,1,1,1], k = 3\n",
    "\n",
    "Output: 10\n",
    "\n",
    "Explanation: [0,0,1,1,1,1,1,1,1,1,1,1,0,0,0,1,1,1,1]\n",
    "\n",
    "Bolded numbers were flipped from 0 to 1. The longest subarray is underlined.\n",
    " \n",
    "\n",
    "Constraints:\n",
    "\n",
    "1 <= nums.length <= 105\n",
    "nums[i] is either 0 or 1.\n",
    "0 <= k <= nums.length"
   ]
  },
  {
   "cell_type": "code",
   "execution_count": 4,
   "id": "0a244c11",
   "metadata": {},
   "outputs": [
    {
     "name": "stdout",
     "output_type": "stream",
     "text": [
      "6\n"
     ]
    }
   ],
   "source": [
    "def cosecutive_ones(arr, k):\n",
    "    window_start = 0\n",
    "    one_count = 0\n",
    "    max_length = 0\n",
    "\n",
    "    for window_end in range(len(arr)):\n",
    "        if arr[window_end] == 1:\n",
    "            one_count += 1\n",
    "\n",
    "        if (window_end - window_start + 1 - one_count) > k:\n",
    "            if arr[window_start] == 1:\n",
    "                one_count -= 1\n",
    "            window_start += 1\n",
    "\n",
    "        max_length = max(max_length, window_end - window_start + 1)\n",
    "\n",
    "    return max_length\n",
    "\n",
    "print(cosecutive_ones([0,0,1,1,0,1,1,0,0,0,1],2))                \n"
   ]
  },
  {
   "cell_type": "code",
   "execution_count": null,
   "id": "30321358",
   "metadata": {},
   "outputs": [],
   "source": []
  }
 ],
 "metadata": {
  "kernelspec": {
   "display_name": "base",
   "language": "python",
   "name": "python3"
  },
  "language_info": {
   "codemirror_mode": {
    "name": "ipython",
    "version": 3
   },
   "file_extension": ".py",
   "mimetype": "text/x-python",
   "name": "python",
   "nbconvert_exporter": "python",
   "pygments_lexer": "ipython3",
   "version": "3.10.13"
  }
 },
 "nbformat": 4,
 "nbformat_minor": 5
}
