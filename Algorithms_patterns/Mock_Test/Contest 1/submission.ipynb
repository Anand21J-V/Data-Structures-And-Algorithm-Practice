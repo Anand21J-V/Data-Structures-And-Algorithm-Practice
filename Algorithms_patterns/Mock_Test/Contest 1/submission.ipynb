{
 "cells": [
  {
   "cell_type": "markdown",
   "id": "8706afe7",
   "metadata": {},
   "source": [
    "# Set 1: Sliding Window Contest Problems"
   ]
  },
  {
   "cell_type": "markdown",
   "id": "95ae9dd1",
   "metadata": {},
   "source": [
    "\n",
    "\n",
    "#### Problem 1: Maximum Sum of K Consecutive Elements\n",
    "Given an array of integers `nums` and an integer `k`, find the maximum sum of any `k` consecutive elements in the array. If the array length is less than `k`, return 0.\n",
    "\n",
    "**Constraints:**\n",
    "- 1 <= len(nums) <= 10^5\n",
    "- -10^4 <= nums[i] <= 10^4\n",
    "- 1 <= k <= len(nums)\n",
    "\n",
    "**Example:**\n",
    "```\n",
    "Input: nums = [1, 4, 2, 10, 2, 3, 1, 0, 20], k = 4\n",
    "Output: 35\n",
    "Explanation: The subarray [4, 2, 10, 2]   to 18, [2, 10, 2, 3] sums to 17, but [10, 2, 3, 1, 0, 20] with k=4 elements from index 3 to 6 (sum = 35) is maximum."
   ]
  },
  {
   "cell_type": "code",
   "execution_count": null,
   "id": "bf17cfe6",
   "metadata": {},
   "outputs": [
    {
     "name": "stdout",
     "output_type": "stream",
     "text": [
      "29\n"
     ]
    }
   ],
   "source": [
    "def maximum_subarray(arr, k):\n",
    "    window_start = 0\n",
    "    window_sum = 0\n",
    "    maximum_sum = 0\n",
    "\n",
    "    for window_end in range(len(arr)):\n",
    "        window_sum += arr[window_end]\n",
    "        \n",
    "        if (window_end - window_start + 1) == k:\n",
    "            maximum_sum = max(maximum_sum, window_sum)\n",
    "            window_sum -= arr[window_start]\n",
    "            window_start += 1\n",
    "\n",
    "    return maximum_sum\n",
    "\n",
    "print(maximum_subarray([1, 4, 2, 10, 2, 3, 1, 0, 20],4))        "
   ]
  },
  {
   "cell_type": "markdown",
   "id": "31bf1dcd",
   "metadata": {},
   "source": [
    "\n",
    "#### Problem 2: Longest Substring with At Most K Distinct Characters\n",
    "Given a string `s` and an integer `k`, find the length of the longest substring that contains at most `k` distinct characters.\n",
    "\n",
    "**Constraints:**\n",
    "- 1 <= len(s) <= 10^5\n",
    "- 0 <= k <= len(s)\n",
    "- `s` contains only lowercase English letters\n",
    "\n",
    "**Example:**\n",
    "```\n",
    "Input: s = \"eceba\", k = 2\n",
    "Output: 3\n",
    "Explanation: The substring \"ece\" has 2 distinct characters ('e' and 'c') and length 3.\n"
   ]
  },
  {
   "cell_type": "code",
   "execution_count": null,
   "id": "7fc9e827",
   "metadata": {},
   "outputs": [],
   "source": [
    "def longest_substring(str, k):\n",
    "    window_start = 0\n",
    "    max_length = 0\n",
    "    char_frequency = {}\n",
    "\n",
    "    for window_end in range(len(str)):\n",
    "        right_char = str[window_end]\n",
    "        if right_char not in char_frequency:\n",
    "            char_frequency[right_char] = 0\n",
    "        char_frequency[right_char] += 1\n",
    "\n",
    "        if len(char_frequency) > k:\n",
    "            left_char = str[window_start]\n",
    "            # if left_char in char_frequency:\n",
    "            #     if char_frequency[left_char] == 0:\n",
    "            #         del char_frequency[left_char]\n",
    "            char_frequency[left_char] -= 1\n",
    "            window_start += 1\n",
    "\n",
    "        max_length = max(max_length, window_end - window_start + 1)\n",
    "\n",
    "    return max_length     \n",
    "           \n",
    "print(longest_substring((\"eceba\"),2))"
   ]
  }
 ],
 "metadata": {
  "kernelspec": {
   "display_name": "base",
   "language": "python",
   "name": "python3"
  },
  "language_info": {
   "codemirror_mode": {
    "name": "ipython",
    "version": 3
   },
   "file_extension": ".py",
   "mimetype": "text/x-python",
   "name": "python",
   "nbconvert_exporter": "python",
   "pygments_lexer": "ipython3",
   "version": "3.10.13"
  }
 },
 "nbformat": 4,
 "nbformat_minor": 5
}
