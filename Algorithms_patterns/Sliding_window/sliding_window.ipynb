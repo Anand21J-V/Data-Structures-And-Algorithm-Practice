{
 "cells": [
  {
   "cell_type": "markdown",
   "id": "ec76af66",
   "metadata": {},
   "source": [
    "# Maximum Sum Subarray of Size K (easy)\n",
    "\n",
    "Problem Statement #\n",
    "Given an array of positive numbers and a positive number ‘k’, find the maximum sum of any contiguous subarray of size ‘k’.\n",
    "\n",
    "Example 1:\n",
    "\n",
    "Input: [2, 1, 5, 1, 3, 2], k=3 \n",
    "Output: 9\n",
    "Explanation: Subarray with maximum sum is [5, 1, 3].\n",
    "Example 2:\n",
    "\n",
    "Input: [2, 3, 4, 1, 5], k=2 \n",
    "Output: 7\n",
    "Explanation: Subarray with maximum sum is [3, 4]."
   ]
  },
  {
   "cell_type": "code",
   "execution_count": 2,
   "id": "bce8aa6c",
   "metadata": {},
   "outputs": [
    {
     "name": "stdout",
     "output_type": "stream",
     "text": [
      "9\n"
     ]
    }
   ],
   "source": [
    "def max_sub_array(k, arr):\n",
    "    max_sum = 0\n",
    "    window_sum = 0\n",
    "    window_start = 0\n",
    "\n",
    "    for window_end in range(len(arr)):\n",
    "        window_sum += arr[window_end]\n",
    "\n",
    "        if window_end >= k-1:\n",
    "            max_sum  = max(max_sum, window_sum)\n",
    "            window_sum -= arr[window_start]\n",
    "            window_start += 1\n",
    "\n",
    "    return max_sum\n",
    "\n",
    "print(max_sub_array(3,[2,1,5,1,3,2]))        \n"
   ]
  },
  {
   "cell_type": "code",
   "execution_count": null,
   "id": "f43615ba",
   "metadata": {},
   "outputs": [],
   "source": []
  }
 ],
 "metadata": {
  "kernelspec": {
   "display_name": "base",
   "language": "python",
   "name": "python3"
  },
  "language_info": {
   "codemirror_mode": {
    "name": "ipython",
    "version": 3
   },
   "file_extension": ".py",
   "mimetype": "text/x-python",
   "name": "python",
   "nbconvert_exporter": "python",
   "pygments_lexer": "ipython3",
   "version": "3.10.13"
  }
 },
 "nbformat": 4,
 "nbformat_minor": 5
}
