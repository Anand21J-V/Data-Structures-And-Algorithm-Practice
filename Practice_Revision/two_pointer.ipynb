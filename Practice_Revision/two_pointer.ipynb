{
 "cells": [
  {
   "cell_type": "markdown",
   "id": "3ee9e72d",
   "metadata": {},
   "source": [
    "# PRACTICE TWO POINTER"
   ]
  },
  {
   "cell_type": "markdown",
   "id": "7a4c5aac",
   "metadata": {},
   "source": [
    "## Pair with Target Sum (easy)\n",
    "\n",
    "### Problem Statement \n",
    "\n",
    "Given an array of sorted numbers and a target sum, find a pair in the array whose sum is equal to the given target.\n",
    "\n",
    "Write a function to return the indices of the two numbers (i.e. the pair) such that they add up to the given target.\n",
    "\n",
    "Example 1:\n",
    "\n",
    "Input: [1, 2, 3, 4, 6], target=6\n",
    "\n",
    "Output: [1, 3]\n",
    "\n",
    "Explanation: The numbers at index 1 and 3 add up to 6: 2+4=6\n",
    "\n",
    "Example 2:\n",
    "\n",
    "Input: [2, 5, 9, 11], target=11\n",
    "\n",
    "Output: [0, 2]\n",
    "\n",
    "Explanation: The numbers at index 0 and 2 add up to 11: 2+9=11"
   ]
  },
  {
   "cell_type": "code",
   "execution_count": 2,
   "id": "3a74834a",
   "metadata": {},
   "outputs": [
    {
     "name": "stdout",
     "output_type": "stream",
     "text": [
      "[0, 2]\n"
     ]
    }
   ],
   "source": [
    "def target_sum(arr, target):\n",
    "    n = len(arr)\n",
    "    first = 0\n",
    "    last = n - 1\n",
    "\n",
    "    while first < last:\n",
    "        total = arr[first] + arr[last]\n",
    "        if total == target:\n",
    "            return [first, last]\n",
    "        elif total < target:\n",
    "            first += 1\n",
    "        else:\n",
    "            last -= 1\n",
    "\n",
    "    return -1\n",
    "\n",
    "print(target_sum([2,5,9,11],11))            "
   ]
  },
  {
   "cell_type": "code",
   "execution_count": null,
   "id": "dec820d7",
   "metadata": {},
   "outputs": [],
   "source": []
  }
 ],
 "metadata": {
  "kernelspec": {
   "display_name": "base",
   "language": "python",
   "name": "python3"
  },
  "language_info": {
   "codemirror_mode": {
    "name": "ipython",
    "version": 3
   },
   "file_extension": ".py",
   "mimetype": "text/x-python",
   "name": "python",
   "nbconvert_exporter": "python",
   "pygments_lexer": "ipython3",
   "version": "3.10.13"
  }
 },
 "nbformat": 4,
 "nbformat_minor": 5
}
