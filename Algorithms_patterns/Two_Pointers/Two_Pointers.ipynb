{
 "cells": [
  {
   "cell_type": "markdown",
   "id": "ea12d37a",
   "metadata": {},
   "source": [
    "# Pair with Target Sum (easy)\n",
    "\n",
    "Problem Statement \n",
    "\n",
    "Given an array of sorted numbers and a target sum, find a pair in the array whose sum is equal to the given target.\n",
    "\n",
    "Write a function to return the indices of the two numbers (i.e. the pair) such that they add up to the given target.\n",
    "\n",
    "Example 1:\n",
    "\n",
    "Input: [1, 2, 3, 4, 6], target=6\n",
    "\n",
    "Output: [1, 3]\n",
    "\n",
    "Explanation: The numbers at index 1 and 3 add up to 6: 2+4=6\n",
    "\n",
    "Example 2:\n",
    "\n",
    "Input: [2, 5, 9, 11], target=11\n",
    "\n",
    "Output: [0, 2]\n",
    "\n",
    "Explanation: The numbers at index 0 and 2 add up to 11: 2+9=11"
   ]
  },
  {
   "cell_type": "code",
   "execution_count": 4,
   "id": "8ac418cc",
   "metadata": {},
   "outputs": [
    {
     "name": "stdout",
     "output_type": "stream",
     "text": [
      "[1, 3]\n"
     ]
    }
   ],
   "source": [
    "def target_sum(arr,target):\n",
    "    i = 0\n",
    "    j = len(arr) - 1\n",
    "\n",
    "    while i <= j:\n",
    "        if arr[i] + arr[j] == target:\n",
    "            return [i,j]\n",
    "        elif arr[i] + arr[j] > target:\n",
    "            j -= 1\n",
    "        else:\n",
    "            i += 1\n",
    "\n",
    "print(target_sum([1,2,3,4,6],6))            "
   ]
  },
  {
   "cell_type": "markdown",
   "id": "31622183",
   "metadata": {},
   "source": [
    "# Remove Duplicates (easy)\n",
    "\n",
    "Problem Statement \n",
    "\n",
    "Given an array of sorted numbers, remove all duplicates from it. You should not use any extra space; after removing the duplicates in-place return the new length of the array.\n",
    "\n",
    "Example 1:\n",
    "\n",
    "Input: [2, 3, 3, 3, 6, 9, 9]\n",
    "\n",
    "Output: 4\n",
    "\n",
    "Explanation: The first four elements after removing the duplicates will be [2, 3, 6, 9].\n",
    "\n",
    "Example 2:\n",
    "\n",
    "Input: [2, 2, 2, 11]\n",
    "\n",
    "Output: 2\n",
    "\n",
    "Explanation: The first two elements after removing the duplicates will be [2, 11]."
   ]
  },
  {
   "cell_type": "code",
   "execution_count": 11,
   "id": "c5a56e61",
   "metadata": {},
   "outputs": [
    {
     "name": "stdout",
     "output_type": "stream",
     "text": [
      "7\n"
     ]
    }
   ],
   "source": [
    "def remove_duplicates(arr):\n",
    "    next_non_duplicate = 1\n",
    "    i = 1\n",
    "\n",
    "    while (i < len(arr)):\n",
    "        if arr[next_non_duplicate - 1] != arr[i]:\n",
    "            arr[next_non_duplicate] = arr[i]\n",
    "            next_non_duplicate += 1\n",
    "        i += 1\n",
    "\n",
    "    return next_non_duplicate   \n",
    "\n",
    "print(remove_duplicates([1,2,2,3,3,3,3,4,4,5,6,6,7]))\n"
   ]
  },
  {
   "cell_type": "markdown",
   "id": "be153d8e",
   "metadata": {},
   "source": [
    "# Squaring a Sorted Array (easy)\n",
    "\n",
    "Problem Statement \n",
    "\n",
    "Given a sorted array, create a new array containing squares of all the number of the input array in the sorted order.\n",
    "\n",
    "Example 1:\n",
    "\n",
    "Input: [-2, -1, 0, 2, 3]\n",
    "\n",
    "Output: [0, 1, 4, 4, 9]\n",
    "\n",
    "Example 2:\n",
    "\n",
    "Input: [-3, -1, 0, 1, 2]\n",
    "\n",
    "Output: [0 1 1 4 9]"
   ]
  },
  {
   "cell_type": "code",
   "execution_count": 12,
   "id": "a444470f",
   "metadata": {},
   "outputs": [
    {
     "name": "stdout",
     "output_type": "stream",
     "text": [
      "[0, 1, 4, 4, 9]\n"
     ]
    }
   ],
   "source": [
    "def sorted_square(arr):\n",
    "    new_array = []\n",
    "    new_sorted_array = []\n",
    "    for i in arr:\n",
    "        new_array.append(abs(i))\n",
    "    new = sorted(new_array)\n",
    "\n",
    "    for j in new:\n",
    "        new_sorted_array.append(j*j)\n",
    "\n",
    "    return new_sorted_array\n",
    "\n",
    "print(sorted_square([-2,-1,0,2,3]))        "
   ]
  },
  {
   "cell_type": "code",
   "execution_count": 2,
   "id": "4d6faac5",
   "metadata": {},
   "outputs": [
    {
     "name": "stdout",
     "output_type": "stream",
     "text": [
      "[0, 1, 4, 4, 9]\n"
     ]
    }
   ],
   "source": [
    "def sorted_square(arr):\n",
    "    n = len(arr)\n",
    "    result = []\n",
    "    \n",
    "    # Find the index of the first non-negative number\n",
    "    for val in range(n):\n",
    "        if arr[val] >= 0:\n",
    "            i = val\n",
    "            j = val - 1\n",
    "            break\n",
    "    else:\n",
    "        # All numbers are negative\n",
    "        i = n\n",
    "        j = n - 1\n",
    "    \n",
    "    # Merge the squares like merging two sorted arrays\n",
    "    while i < n and j >= 0:\n",
    "        if arr[i] ** 2 < arr[j] ** 2:\n",
    "            result.append(arr[i] ** 2)\n",
    "            i += 1\n",
    "        else:\n",
    "            result.append(arr[j] ** 2)\n",
    "            j -= 1\n",
    "\n",
    "    # Add remaining elements\n",
    "    while i < n:\n",
    "        result.append(arr[i] ** 2)\n",
    "        i += 1\n",
    "\n",
    "    while j >= 0:\n",
    "        result.append(arr[j] ** 2)\n",
    "        j -= 1\n",
    "\n",
    "    return result\n",
    "\n",
    "print(sorted_square([-2, -1, 0, 2, 3]))\n"
   ]
  },
  {
   "cell_type": "code",
   "execution_count": 5,
   "id": "41233d51",
   "metadata": {},
   "outputs": [
    {
     "name": "stdout",
     "output_type": "stream",
     "text": [
      "[0, 1, 4, 4, 9]\n"
     ]
    }
   ],
   "source": [
    "def squares(arr):\n",
    "    n = len(arr)\n",
    "    squares = [0] * n\n",
    "    highest_index_squares = n - 1\n",
    "\n",
    "    left = 0\n",
    "    right = n - 1\n",
    "\n",
    "    while left <= right:\n",
    "        left_square = arr[left] * arr[left]\n",
    "        right_square = arr[right] * arr[right]\n",
    "\n",
    "        if left_square > right_square:\n",
    "            squares[highest_index_squares] = left_square\n",
    "            left += 1\n",
    "        else:\n",
    "            squares[highest_index_squares] = right_square\n",
    "            right -= 1\n",
    "        highest_index_squares -= 1\n",
    "\n",
    "    return squares       \n",
    "\n",
    "print(squares([-2, -1, 0, 2, 3])) \n",
    "\n"
   ]
  },
  {
   "cell_type": "markdown",
   "id": "b352bdcb",
   "metadata": {},
   "source": [
    "# Triplet Sum to Zero (medium)\n",
    "\n",
    "Problem Statement \n",
    "\n",
    "Given an array of unsorted numbers, find all unique triplets in it that add up to zero.\n",
    "\n",
    "Example 1:\n",
    "\n",
    "Input: [-3, 0, 1, 2, -1, 1, -2]\n",
    "\n",
    "Output: [-3, 1, 2], [-2, 0, 2], [-2, 1, 1], [-1, 0, 1]\n",
    "\n",
    "Explanation: There are four unique triplets whose sum is equal to zero.\n",
    "\n",
    "Example 2:\n",
    "\n",
    "Input: [-5, 2, -1, -2, 3]\n",
    "\n",
    "Output: [[-5, 2, 3], [-2, -1, 3]]\n",
    "\n",
    "Explanation: There are two unique triplets whose sum is equal to zero."
   ]
  },
  {
   "cell_type": "code",
   "execution_count": 23,
   "id": "4c2c7bfb",
   "metadata": {},
   "outputs": [
    {
     "name": "stdout",
     "output_type": "stream",
     "text": [
      "[]\n"
     ]
    }
   ],
   "source": [
    "# Approach when making the i arr value as the target value and appending when target value and sum of left and right gets 0.\n",
    "\n",
    "def triplet_sum(arr):\n",
    "    result = []\n",
    "\n",
    "    for i in range(len(arr)):\n",
    "        if i > 0  and arr[i] == arr[i-1]:\n",
    "            continue\n",
    "\n",
    "        target_sum = -arr[i]\n",
    "        left = i + 1\n",
    "        right = len(arr) - 1\n",
    "\n",
    "        while left < right:\n",
    "            current_sum = arr[left] + arr[right]\n",
    "\n",
    "            if current_sum == target_sum:\n",
    "                result.append([arr[i],arr[left],arr[right]])\n",
    "                left += 1\n",
    "                right -= 1\n",
    "\n",
    "                while left < right and arr[left] == arr[left-1]:\n",
    "                    left += 1\n",
    "\n",
    "                while left < right and arr[right] == arr[right + 1]:\n",
    "                    right -= 1\n",
    "\n",
    "            elif current_sum < target_sum:\n",
    "                left += 1\n",
    "            else:\n",
    "                right -= 1\n",
    "\n",
    "    return result                    \n",
    "\n",
    "print(triplet_sum([-1,0,1,2,-1,-4]))"
   ]
  },
  {
   "cell_type": "code",
   "execution_count": 20,
   "id": "70982ab3",
   "metadata": {},
   "outputs": [
    {
     "name": "stdout",
     "output_type": "stream",
     "text": [
      "[[-5, 2, 3], [-1, -2, 3]]\n"
     ]
    }
   ],
   "source": [
    "# Approach when trying to get the sum of i, left and right index value equals to 0.\n",
    "\n",
    "def triplet_sum_approach_2(arr):\n",
    "    result = []\n",
    "\n",
    "    for i in range(len(arr)):\n",
    "        if i > 0 and arr[i] == arr[i-1]:\n",
    "            continue\n",
    "\n",
    "        left = i + 1\n",
    "        right = len(arr) - 1\n",
    "\n",
    "        total = arr[i] + arr[left] + arr[right]\n",
    "\n",
    "        while left < right:\n",
    "            if total == 0:\n",
    "                result.append([arr[i],arr[left],arr[right]])\n",
    "                left += 1\n",
    "                right -= 1\n",
    "\n",
    "                while left < right and arr[left] == arr[left - 1]:\n",
    "                    left -= 1\n",
    "\n",
    "                while left < right and arr[right] == arr[right + 1]:\n",
    "                    right += 1\n",
    "\n",
    "            elif total < 0:\n",
    "                left += 1\n",
    "            else:\n",
    "                right -= 1\n",
    "\n",
    "    return result        \n",
    "\n",
    "print(triplet_sum([-5, 2, -1, -2, 3]))                       "
   ]
  },
  {
   "cell_type": "markdown",
   "id": "5cc5c474",
   "metadata": {},
   "source": [
    "# Triplet Sum Close to Target (medium)\n",
    "\n",
    "### Problem Statement  \n",
    "\n",
    "Given an array of unsorted numbers and a target number, find a triplet in the array whose sum is as close to the target number as possible, return the sum of the triplet. If there are more than one such triplet, return the sum of the triplet with the smallest sum.\n",
    "\n",
    "Example 1:\n",
    "\n",
    "Input: [-2, 0, 1, 2], target=2\n",
    "\n",
    "Output: 1\n",
    "\n",
    "Explanation: The triplet [-2, 1, 2] has the closest sum to the target.\n",
    "\n",
    "Example 2:\n",
    "\n",
    "Input: [-3, -1, 1, 2], target=1\n",
    "\n",
    "Output: 0\n",
    "\n",
    "Explanation: The triplet [-3, 1, 2] has the closest sum to the target.\n",
    "\n",
    "Example 3:\n",
    "\n",
    "Input: [1, 0, 1, 1], target=100\n",
    "\n",
    "Output: 3\n",
    "\n",
    "Explanation: The triplet [1, 1, 1] has the closest sum to the target."
   ]
  },
  {
   "cell_type": "code",
   "execution_count": 9,
   "id": "51c3f3c7",
   "metadata": {},
   "outputs": [
    {
     "name": "stdout",
     "output_type": "stream",
     "text": [
      "3\n"
     ]
    }
   ],
   "source": [
    "import math\n",
    "\n",
    "def triplet_closest_target(arr, target):\n",
    "    arr.sort()\n",
    "    closest_sum = 0\n",
    "    difference = math.inf\n",
    "    \n",
    "    for i in range(len(arr)):\n",
    "        if i > 0 and arr[i] == arr[i - 1]:\n",
    "            continue\n",
    "\n",
    "        left = i  + 1\n",
    "        right = len(arr) - 1\n",
    "\n",
    "        while left < right:\n",
    "            total_sum = arr[i] + arr[left] + arr[right]\n",
    "            current_difference = abs(total_sum - target)\n",
    "\n",
    "            if current_difference < difference:\n",
    "                difference = current_difference\n",
    "                closest_sum = total_sum\n",
    "\n",
    "            if total_sum < target:\n",
    "                left += 1\n",
    "            elif total_sum > target:\n",
    "                right -= 1\n",
    "            else:\n",
    "                return target\n",
    "\n",
    "    return closest_sum\n",
    "\n",
    "print(triplet_closest_target([1, 0, 1, 1],100))        "
   ]
  },
  {
   "cell_type": "markdown",
   "id": "ecd8db3f",
   "metadata": {},
   "source": [
    "# Triplets with Smaller Sum (medium)\n",
    "\n",
    "### Problem Statement \n",
    "\n",
    "Given an array arr of unsorted numbers and a target sum, count all triplets in it such that arr[i] + arr[j] + arr[k] < target where i, j, and k are three different indices. Write a function to return the count of such triplets.\n",
    "\n",
    "Example 1:\n",
    "\n",
    "Input: [-1, 0, 2, 3], target=3 \n",
    "\n",
    "Output: 2\n",
    "\n",
    "Explanation: There are two triplets whose sum is less than the target: [-1, 0, 3], [-1, 0, 2]\n",
    "\n",
    "Example 2:\n",
    "\n",
    "Input: [-1, 4, 2, 1, 3], target=5 \n",
    "\n",
    "Output: 4\n",
    "\n",
    "Explanation: There are four triplets whose sum is less than the target: \n",
    "   [-1, 1, 4], [-1, 1, 3], [-1, 1, 2], [-1, 2, 3]"
   ]
  },
  {
   "cell_type": "code",
   "execution_count": 22,
   "id": "f55c992c",
   "metadata": {},
   "outputs": [
    {
     "name": "stdout",
     "output_type": "stream",
     "text": [
      "Count of all the triplets with smaller target sum: 4\n",
      "Count of all the triplets with smaller target sum: 2\n"
     ]
    }
   ],
   "source": [
    "def triplet_with_smaller_sum(arr, target):\n",
    "    arr.sort()\n",
    "    count = 0\n",
    "\n",
    "    for i in range(len(arr)-2):\n",
    "        left = i + 1\n",
    "        right = len(arr) - 1\n",
    "\n",
    "        while left < right:\n",
    "            if arr[i] + arr[left] + arr[right] < target:\n",
    "                count += right - left\n",
    "                left += 1\n",
    "            else:\n",
    "                right -= 1\n",
    "\n",
    "    return count\n",
    "\n",
    "print(\"Count of all the triplets with smaller target sum:\",triplet_with_smaller_sum([-1, 4, 2, 1, 3],5 ))      \n",
    "print(\"Count of all the triplets with smaller target sum:\",triplet_with_smaller_sum([-1, 0, 2, 3],3 ))\n"
   ]
  },
  {
   "cell_type": "markdown",
   "id": "48d7ee20",
   "metadata": {},
   "source": [
    "# Dutch National Flag Problem (medium)\n",
    "\n",
    "### Problem Statement \n",
    "\n",
    "Given an array containing 0s, 1s and 2s, sort the array in-place. You should treat numbers of the array as objects, hence, we can’t count 0s, 1s, and 2s to recreate the array.\n",
    "\n",
    "The flag of the Netherlands consists of three colors: red, white and blue; and since our input array also consists of three different numbers that is why it is called Dutch National Flag problem.\n",
    "\n",
    "Example 1:\n",
    "\n",
    "Input: [1, 0, 2, 1, 0]\n",
    "\n",
    "Output: [0 0 1 1 2]\n",
    "\n",
    "Example 2:\n",
    "\n",
    "Input: [2, 2, 0, 1, 2, 0]\n",
    "\n",
    "Output: [0 0 1 2 2 2 ]"
   ]
  },
  {
   "cell_type": "code",
   "execution_count": 2,
   "id": "64f25c38",
   "metadata": {},
   "outputs": [
    {
     "name": "stdout",
     "output_type": "stream",
     "text": [
      "[0, 0, 0, 1, 1, 1, 2, 2]\n"
     ]
    }
   ],
   "source": [
    "def dutch_national_flag(arr):\n",
    "    n = len(arr) \n",
    "    low = 0\n",
    "    high = n - 1\n",
    "\n",
    "    mid = 0\n",
    "\n",
    "    while(mid <= high):\n",
    "        if arr[mid] == 0:\n",
    "            arr[mid], arr[low] = arr[low], arr[mid]\n",
    "            mid += 1\n",
    "            low += 1\n",
    "        elif arr[mid] == 1:\n",
    "            mid += 1\n",
    "        else:\n",
    "            arr[mid], arr[high] = arr[high], arr[mid] \n",
    "            high -= 1\n",
    "\n",
    "    return arr\n",
    "\n",
    "print(dutch_national_flag([1,2,0,1,0,0,2,1]))                   \n",
    "\n",
    "\n"
   ]
  },
  {
   "cell_type": "markdown",
   "id": "5e11799b",
   "metadata": {},
   "source": [
    "# Quadruple Sum to Target (medium) \n",
    "\n",
    "Given an array of unsorted numbers and a target number, find all unique quadruplets in it, whose sum is equal to the target number.\n",
    "\n",
    "Example 1:\n",
    "\n",
    "Input: [4, 1, 2, -1, 1, -3], target=1\n",
    "\n",
    "Output: [-3, -1, 1, 4], [-3, 1, 1, 2]\n",
    "\n",
    "Explanation: Both the quadruplets add up to the target.\n",
    "\n",
    "Example 2:\n",
    "\n",
    "Input: [2, 0, -1, 1, -2, 2], target=2\n",
    "\n",
    "Output: [-2, 0, 2, 2], [-1, 0, 1, 2]\n",
    "\n",
    "Explanation: Both the quadruplets add up to the target."
   ]
  },
  {
   "cell_type": "code",
   "execution_count": 13,
   "id": "09e2c39f",
   "metadata": {},
   "outputs": [
    {
     "name": "stdout",
     "output_type": "stream",
     "text": [
      "[[-2, 0, 2, 2], [-1, 0, 1, 2]]\n",
      "[[-3, -1, 1, 4], [-3, 1, 1, 2]]\n"
     ]
    }
   ],
   "source": [
    "def quadraple_sum(arr, target):\n",
    "    arr.sort()\n",
    "    result = []\n",
    "    n = len(arr)\n",
    "\n",
    "    for i in range(n):\n",
    "        if i > 0 and arr[i] == arr[i-1]:\n",
    "            continue\n",
    "        for j in range(i+1,n):\n",
    "            if j > i+1 and arr[j] == arr[j-1]:\n",
    "                continue\n",
    "\n",
    "            left = j + 1\n",
    "            right = n - 1\n",
    "\n",
    "            while left < right:\n",
    "                total_sum = arr[i] + arr[j] + arr[left] + arr[right]\n",
    "\n",
    "                if total_sum == target:\n",
    "                    result.append([arr[i],arr[j],arr[left],arr[right]])\n",
    "                    left += 1\n",
    "                    right -= 1\n",
    "\n",
    "                    while left < right and arr[left] == arr[left - 1]:\n",
    "                        left += 1\n",
    "\n",
    "                    while left < right and arr[right] == arr[right + 1]:\n",
    "                        right -= 1\n",
    "\n",
    "                elif total_sum < target:\n",
    "                    left += 1\n",
    "\n",
    "                else:\n",
    "                    right -= 1\n",
    "\n",
    "    return result \n",
    "\n",
    "print(quadraple_sum([2, 0, -1, 1, -2, 2],2))               \n",
    "print(quadraple_sum([4, 1, 2, -1, 1, -3], 1))   \n"
   ]
  },
  {
   "cell_type": "markdown",
   "id": "7c1a25e1",
   "metadata": {},
   "source": [
    "# Comparing Strings containing Backspaces (medium) \n",
    "\n",
    "Given two strings containing backspaces (identified by the character ‘#’), check if the two strings are equal.\n",
    "\n",
    "Example 1:\n",
    "\n",
    "Input: str1=\"xy#z\", str2=\"xzz#\"'\n",
    "\n",
    "Output: true\n",
    "\n",
    "Explanation: After applying backspaces the strings become \"xz\" and \"xz\" respectively.\n",
    "\n",
    "Example 2:\n",
    "\n",
    "Input: str1=\"xy#z\", str2=\"xyz#\"\n",
    "\n",
    "Output: false\n",
    "\n",
    "Explanation: After applying backspaces the strings become \"xz\" and \"xy\" respectively.\n",
    "\n",
    "Example 3:\n",
    "\n",
    "Input: str1=\"xp#\", str2=\"xyz##\"\n",
    "\n",
    "Output: true\n",
    "\n",
    "Explanation: After applying backspaces the strings become \"x\" and \"x\" respectively.\n",
    "\n",
    "In \"xyz##\", the first '#' removes the character 'z' and the second '#' removes the character 'y'.\n",
    "\n",
    "Example 4:\n",
    "\n",
    "Input: str1=\"xywrrmp\", str2=\"xywrrmu#p\"\n",
    "\n",
    "Output: true\n",
    "\n",
    "Explanation: After applying backspaces the strings become \"xywrrmp\" and \"xywrrmp\" respectively."
   ]
  },
  {
   "cell_type": "code",
   "execution_count": null,
   "id": "1411be3a",
   "metadata": {},
   "outputs": [],
   "source": []
  }
 ],
 "metadata": {
  "kernelspec": {
   "display_name": "base",
   "language": "python",
   "name": "python3"
  },
  "language_info": {
   "codemirror_mode": {
    "name": "ipython",
    "version": 3
   },
   "file_extension": ".py",
   "mimetype": "text/x-python",
   "name": "python",
   "nbconvert_exporter": "python",
   "pygments_lexer": "ipython3",
   "version": "3.10.13"
  }
 },
 "nbformat": 4,
 "nbformat_minor": 5
}
