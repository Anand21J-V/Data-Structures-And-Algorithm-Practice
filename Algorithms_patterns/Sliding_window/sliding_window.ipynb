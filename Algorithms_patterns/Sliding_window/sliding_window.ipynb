{
 "cells": [
  {
   "cell_type": "markdown",
   "id": "e4fcc8e3",
   "metadata": {},
   "source": [
    "# Given an array, find the average of all contiguous subarrays of size ‘K’ in it.\n",
    "\n",
    "Let’s understand this problem with a real input:\n",
    "\n",
    "Array: [1, 3, 2, 6, -1, 4, 1, 8, 2], K=5\n",
    "Here, we are asked to find the average of all contiguous subarrays of size ‘5’ in the given array. Let’s solve this:\n",
    "\n",
    "(1+3+2+6−1)/5=>2.2\n",
    "The average of next 5 numbers (subarray from index 1-5) is: \n",
    "\n",
    "Here is the final output containing the averages of all contiguous subarrays of size 5:\n",
    "\n",
    "Output: [2.2, 2.8, 2.4, 3.6, 2.8]"
   ]
  },
  {
   "cell_type": "code",
   "execution_count": 6,
   "id": "3491c241",
   "metadata": {},
   "outputs": [
    {
     "name": "stdout",
     "output_type": "stream",
     "text": [
      "[2.6666666666666665, 2.3333333333333335, 3.0, 2.0, 3.3333333333333335, 4.333333333333333, 6.0]\n"
     ]
    }
   ],
   "source": [
    "def average_subarrays(k, arr):\n",
    "    result = []\n",
    "    window_start = 0\n",
    "    window_sum = 0\n",
    "\n",
    "    for window_end in range(len(arr)):\n",
    "        window_sum += arr[window_end]\n",
    "\n",
    "        if window_end >= k - 1:\n",
    "            result.append(float(window_sum/k))\n",
    "            window_sum -= arr[window_start]\n",
    "            window_start += 1\n",
    "\n",
    "    return result\n",
    "\n",
    "print(average_subarrays(3,[2,1,5,1,3,2,5,6,7])) "
   ]
  },
  {
   "cell_type": "markdown",
   "id": "ec76af66",
   "metadata": {},
   "source": [
    "# Maximum Sum Subarray of Size K (easy)\n",
    "\n",
    "Problem Statement #\n",
    "Given an array of positive numbers and a positive number ‘k’, find the maximum sum of any contiguous subarray of size ‘k’.\n",
    "\n",
    "Example 1:\n",
    "\n",
    "Input: [2, 1, 5, 1, 3, 2], k=3 \n",
    "Output: 9\n",
    "Explanation: Subarray with maximum sum is [5, 1, 3].\n",
    "Example 2:\n",
    "\n",
    "Input: [2, 3, 4, 1, 5], k=2 \n",
    "Output: 7\n",
    "Explanation: Subarray with maximum sum is [3, 4]."
   ]
  },
  {
   "cell_type": "code",
   "execution_count": 2,
   "id": "bce8aa6c",
   "metadata": {},
   "outputs": [
    {
     "name": "stdout",
     "output_type": "stream",
     "text": [
      "9\n"
     ]
    }
   ],
   "source": [
    "def max_sub_array(k, arr):\n",
    "    max_sum = 0\n",
    "    window_sum = 0\n",
    "    window_start = 0\n",
    "\n",
    "    for window_end in range(len(arr)):\n",
    "        window_sum += arr[window_end]\n",
    "\n",
    "        if window_end >= k-1:\n",
    "            max_sum  = max(max_sum, window_sum)\n",
    "            window_sum -= arr[window_start]\n",
    "            window_start += 1\n",
    "\n",
    "    return max_sum\n",
    "\n",
    "print(max_sub_array(3,[2,1,5,1,3,2]))        \n"
   ]
  },
  {
   "cell_type": "markdown",
   "id": "dcf843b1",
   "metadata": {},
   "source": [
    "# "
   ]
  },
  {
   "cell_type": "markdown",
   "id": "991864c5",
   "metadata": {},
   "source": [
    "# Smallest Subarray with a given sum (easy)\n",
    "\n",
    "Problem Statement \n",
    "\n",
    "Given an array of positive numbers and a positive number ‘S’, find the length of the smallest contiguous subarray whose sum is greater than or equal to ‘S’. Return 0, if no such subarray exists."
   ]
  },
  {
   "cell_type": "code",
   "execution_count": 1,
   "id": "f43615ba",
   "metadata": {},
   "outputs": [
    {
     "name": "stdout",
     "output_type": "stream",
     "text": [
      "2\n"
     ]
    }
   ],
   "source": [
    "import math\n",
    "\n",
    "def smallest_subarray(target, arr):\n",
    "    window_start = 0\n",
    "    window_sum = 0\n",
    "    min_length = math.inf\n",
    "\n",
    "    for window_end in range(len(arr)):\n",
    "        window_sum += arr[window_end]\n",
    "\n",
    "        while window_sum >= target:\n",
    "            min_length = min(min_length, window_end - window_start + 1)\n",
    "            window_sum -= arr[window_start]\n",
    "            window_start += 1\n",
    "\n",
    "    if min_length == math.inf:\n",
    "        return 0\n",
    "\n",
    "    return min_length\n",
    "\n",
    "print(smallest_subarray(7,[2,3,1,2,4,3]))        \n"
   ]
  },
  {
   "cell_type": "markdown",
   "id": "6cbad5a7",
   "metadata": {},
   "source": [
    "# Longest Substring with K Distinct Characters (medium)\n",
    "\n",
    "## PROBLEM STATEMENT\n",
    "\n",
    "Given a string, find the length of the longest substring in it with no more than K distinct characters.\n",
    "\n",
    "Input: String=\"araaci\", K=2\n",
    "\n",
    "Output: 4\n",
    "\n",
    "Explanation: The longest substring with no more than '2' distinct characters is \"araa\"."
   ]
  },
  {
   "cell_type": "code",
   "execution_count": null,
   "id": "93f308df",
   "metadata": {},
   "outputs": [],
   "source": []
  }
 ],
 "metadata": {
  "kernelspec": {
   "display_name": "base",
   "language": "python",
   "name": "python3"
  },
  "language_info": {
   "codemirror_mode": {
    "name": "ipython",
    "version": 3
   },
   "file_extension": ".py",
   "mimetype": "text/x-python",
   "name": "python",
   "nbconvert_exporter": "python",
   "pygments_lexer": "ipython3",
   "version": "3.10.13"
  }
 },
 "nbformat": 4,
 "nbformat_minor": 5
}
