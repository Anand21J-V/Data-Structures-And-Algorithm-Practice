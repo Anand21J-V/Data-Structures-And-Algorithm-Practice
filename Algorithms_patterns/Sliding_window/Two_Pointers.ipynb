{
 "cells": [
  {
   "cell_type": "markdown",
   "id": "ea12d37a",
   "metadata": {},
   "source": [
    "# Pair with Target Sum (easy)\n",
    "\n",
    "Problem Statement \n",
    "\n",
    "Given an array of sorted numbers and a target sum, find a pair in the array whose sum is equal to the given target.\n",
    "\n",
    "Write a function to return the indices of the two numbers (i.e. the pair) such that they add up to the given target.\n",
    "\n",
    "Example 1:\n",
    "\n",
    "Input: [1, 2, 3, 4, 6], target=6\n",
    "\n",
    "Output: [1, 3]\n",
    "\n",
    "Explanation: The numbers at index 1 and 3 add up to 6: 2+4=6\n",
    "\n",
    "Example 2:\n",
    "\n",
    "Input: [2, 5, 9, 11], target=11\n",
    "\n",
    "Output: [0, 2]\n",
    "\n",
    "Explanation: The numbers at index 0 and 2 add up to 11: 2+9=11"
   ]
  },
  {
   "cell_type": "code",
   "execution_count": 4,
   "id": "8ac418cc",
   "metadata": {},
   "outputs": [
    {
     "name": "stdout",
     "output_type": "stream",
     "text": [
      "[1, 3]\n"
     ]
    }
   ],
   "source": [
    "def target_sum(arr,target):\n",
    "    i = 0\n",
    "    j = len(arr) - 1\n",
    "\n",
    "    while i <= j:\n",
    "        if arr[i] + arr[j] == target:\n",
    "            return [i,j]\n",
    "        elif arr[i] + arr[j] > target:\n",
    "            j -= 1\n",
    "        else:\n",
    "            i += 1\n",
    "\n",
    "print(target_sum([1,2,3,4,6],6))            "
   ]
  },
  {
   "cell_type": "markdown",
   "id": "31622183",
   "metadata": {},
   "source": [
    "# Remove Duplicates (easy)\n",
    "\n",
    "Problem Statement \n",
    "\n",
    "Given an array of sorted numbers, remove all duplicates from it. You should not use any extra space; after removing the duplicates in-place return the new length of the array.\n",
    "\n",
    "Example 1:\n",
    "\n",
    "Input: [2, 3, 3, 3, 6, 9, 9]\n",
    "\n",
    "Output: 4\n",
    "\n",
    "Explanation: The first four elements after removing the duplicates will be [2, 3, 6, 9].\n",
    "\n",
    "Example 2:\n",
    "\n",
    "Input: [2, 2, 2, 11]\n",
    "\n",
    "Output: 2\n",
    "\n",
    "Explanation: The first two elements after removing the duplicates will be [2, 11]."
   ]
  },
  {
   "cell_type": "code",
   "execution_count": 11,
   "id": "c5a56e61",
   "metadata": {},
   "outputs": [
    {
     "name": "stdout",
     "output_type": "stream",
     "text": [
      "7\n"
     ]
    }
   ],
   "source": [
    "def remove_duplicates(arr):\n",
    "    next_non_duplicate = 1\n",
    "    i = 1\n",
    "\n",
    "    while (i < len(arr)):\n",
    "        if arr[next_non_duplicate - 1] != arr[i]:\n",
    "            arr[next_non_duplicate] = arr[i]\n",
    "            next_non_duplicate += 1\n",
    "        i += 1\n",
    "\n",
    "    return next_non_duplicate   \n",
    "\n",
    "print(remove_duplicates([1,2,2,3,3,3,3,4,4,5,6,6,7]))\n"
   ]
  },
  {
   "cell_type": "markdown",
   "id": "be153d8e",
   "metadata": {},
   "source": [
    "# Squaring a Sorted Array (easy)\n",
    "\n",
    "Problem Statement \n",
    "\n",
    "Given a sorted array, create a new array containing squares of all the number of the input array in the sorted order.\n",
    "\n",
    "Example 1:\n",
    "\n",
    "Input: [-2, -1, 0, 2, 3]\n",
    "\n",
    "Output: [0, 1, 4, 4, 9]\n",
    "\n",
    "Example 2:\n",
    "\n",
    "Input: [-3, -1, 0, 1, 2]\n",
    "\n",
    "Output: [0 1 1 4 9]"
   ]
  },
  {
   "cell_type": "code",
   "execution_count": 12,
   "id": "a444470f",
   "metadata": {},
   "outputs": [
    {
     "name": "stdout",
     "output_type": "stream",
     "text": [
      "[0, 1, 4, 4, 9]\n"
     ]
    }
   ],
   "source": [
    "def sorted_square(arr):\n",
    "    new_array = []\n",
    "    new_sorted_array = []\n",
    "    for i in arr:\n",
    "        new_array.append(abs(i))\n",
    "    new = sorted(new_array)\n",
    "\n",
    "    for j in new:\n",
    "        new_sorted_array.append(j*j)\n",
    "\n",
    "    return new_sorted_array\n",
    "\n",
    "print(sorted_square([-2,-1,0,2,3]))        "
   ]
  },
  {
   "cell_type": "code",
   "execution_count": 2,
   "id": "4d6faac5",
   "metadata": {},
   "outputs": [
    {
     "name": "stdout",
     "output_type": "stream",
     "text": [
      "[0, 1, 4, 4, 9]\n"
     ]
    }
   ],
   "source": [
    "def sorted_square(arr):\n",
    "    n = len(arr)\n",
    "    result = []\n",
    "    \n",
    "    # Find the index of the first non-negative number\n",
    "    for val in range(n):\n",
    "        if arr[val] >= 0:\n",
    "            i = val\n",
    "            j = val - 1\n",
    "            break\n",
    "    else:\n",
    "        # All numbers are negative\n",
    "        i = n\n",
    "        j = n - 1\n",
    "    \n",
    "    # Merge the squares like merging two sorted arrays\n",
    "    while i < n and j >= 0:\n",
    "        if arr[i] ** 2 < arr[j] ** 2:\n",
    "            result.append(arr[i] ** 2)\n",
    "            i += 1\n",
    "        else:\n",
    "            result.append(arr[j] ** 2)\n",
    "            j -= 1\n",
    "\n",
    "    # Add remaining elements\n",
    "    while i < n:\n",
    "        result.append(arr[i] ** 2)\n",
    "        i += 1\n",
    "\n",
    "    while j >= 0:\n",
    "        result.append(arr[j] ** 2)\n",
    "        j -= 1\n",
    "\n",
    "    return result\n",
    "\n",
    "print(sorted_square([-2, -1, 0, 2, 3]))\n"
   ]
  },
  {
   "cell_type": "code",
   "execution_count": 5,
   "id": "41233d51",
   "metadata": {},
   "outputs": [
    {
     "name": "stdout",
     "output_type": "stream",
     "text": [
      "[0, 1, 4, 4, 9]\n"
     ]
    }
   ],
   "source": [
    "def squares(arr):\n",
    "    n = len(arr)\n",
    "    squares = [0] * n\n",
    "    highest_index_squares = n - 1\n",
    "\n",
    "    left = 0\n",
    "    right = n - 1\n",
    "\n",
    "    while left <= right:\n",
    "        left_square = arr[left] * arr[left]\n",
    "        right_square = arr[right] * arr[right]\n",
    "\n",
    "        if left_square > right_square:\n",
    "            squares[highest_index_squares] = left_square\n",
    "            left += 1\n",
    "        else:\n",
    "            squares[highest_index_squares] = right_square\n",
    "            right -= 1\n",
    "        highest_index_squares -= 1\n",
    "\n",
    "    return squares       \n",
    "\n",
    "print(squares([-2, -1, 0, 2, 3])) \n",
    "\n"
   ]
  },
  {
   "cell_type": "code",
   "execution_count": null,
   "id": "4c2c7bfb",
   "metadata": {},
   "outputs": [],
   "source": []
  }
 ],
 "metadata": {
  "kernelspec": {
   "display_name": "base",
   "language": "python",
   "name": "python3"
  },
  "language_info": {
   "codemirror_mode": {
    "name": "ipython",
    "version": 3
   },
   "file_extension": ".py",
   "mimetype": "text/x-python",
   "name": "python",
   "nbconvert_exporter": "python",
   "pygments_lexer": "ipython3",
   "version": "3.10.13"
  }
 },
 "nbformat": 4,
 "nbformat_minor": 5
}
