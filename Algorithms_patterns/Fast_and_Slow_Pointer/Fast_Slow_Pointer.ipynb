{
 "cells": [
  {
   "cell_type": "markdown",
   "id": "c25b0071",
   "metadata": {},
   "source": [
    "# LinkedList Cycle (easy)\n",
    "\n",
    "Problem Statement \n",
    "\n",
    "Given the head of a Singly LinkedList, write a function to determine if the LinkedList has a cycle in it or not."
   ]
  },
  {
   "cell_type": "code",
   "execution_count": 27,
   "id": "7af724d5",
   "metadata": {},
   "outputs": [
    {
     "name": "stdout",
     "output_type": "stream",
     "text": [
      "LinkedList has Cycle: True\n"
     ]
    }
   ],
   "source": [
    "class Node:\n",
    "    def __init__(self, value, next = None):\n",
    "        self.value = value\n",
    "        self.next = None\n",
    "\n",
    "def linked_list_cycle(head):\n",
    "    slow, fast = head, head\n",
    "\n",
    "    while fast is not None and fast.next is not None: \n",
    "       slow = slow.next\n",
    "       fast = fast.next.next\n",
    "\n",
    "       if slow == fast:\n",
    "          return True\n",
    "    return False    \n",
    "\n",
    "def main():\n",
    "    head = Node(1)\n",
    "    head.next = Node(2)\n",
    "    head.next.next = Node(3)\n",
    "    head.next.next.next = Node(4)\n",
    "    head.next.next.next.next = Node(5)\n",
    "\n",
    "    head.next.next.next.next.next = head.next.next\n",
    "\n",
    "    print(\"LinkedList has Cycle: \" + str(linked_list_cycle(head)))\n",
    "\n",
    "main()"
   ]
  },
  {
   "cell_type": "markdown",
   "id": "ba74a484",
   "metadata": {},
   "source": [
    "# Start of LinkedList Cycle (medium)\n",
    "\n",
    "Problem Statement \n",
    "\n",
    "Given the head of a Singly LinkedList that contains a cycle, write a function to find the starting node of the cycle."
   ]
  },
  {
   "cell_type": "code",
   "execution_count": null,
   "id": "c5072f7b",
   "metadata": {},
   "outputs": [
    {
     "name": "stdout",
     "output_type": "stream",
     "text": [
      "LinkedList has Cycle on Node: 3\n"
     ]
    }
   ],
   "source": [
    "class Node:\n",
    "    def __init__(self, value, next=None):\n",
    "        self.value = value\n",
    "        self.next = next\n",
    "\n",
    "def start_of_linkedlist_cycle(head):\n",
    "    slow, fast = head, head\n",
    "\n",
    "    while fast is not None and fast.next is not None:\n",
    "        slow = slow.next\n",
    "        fast = fast.next.next\n",
    "        if slow == fast:\n",
    "            break\n",
    "    else:\n",
    "        return None  \n",
    "\n",
    "    slow = head\n",
    "    while slow != fast:\n",
    "        slow = slow.next\n",
    "        fast = fast.next\n",
    "\n",
    "    return slow\n",
    "\n",
    "def main():\n",
    "    head = Node(1)\n",
    "    head.next = Node(2)\n",
    "    head.next.next = Node(3)\n",
    "    head.next.next.next = Node(4)\n",
    "    head.next.next.next.next = Node(5)\n",
    "\n",
    "    head.next.next.next.next.next = head.next.next\n",
    "\n",
    "    result = start_of_linkedlist_cycle(head)\n",
    "    if result:\n",
    "        print(\"LinkedList has Cycle on Node: \" + str(result.value))\n",
    "    else:\n",
    "        print(\"No cycle found.\")\n",
    "\n",
    "main()\n"
   ]
  },
  {
   "cell_type": "markdown",
   "id": "e0d0d311",
   "metadata": {},
   "source": [
    "# Happy Number (medium)\n",
    "\n",
    "Problem Statement \n",
    "\n",
    "Any number will be called a happy number if, after repeatedly replacing it with a number equal to the sum of the square of all of its digits, leads us to number ‘1’. All other (not-happy) numbers will never reach ‘1’. Instead, they will be stuck in a cycle of numbers which does not include ‘1’.\n",
    "\n",
    "Example 1:\n",
    "\n",
    "Input: 23   \n",
    "Output: true (23 is a happy number)  \n",
    "Explanations: Here are the steps to find out that 23 is a happy number:\n",
    "\n",
    "Example 2:\n",
    "\n",
    "Input: 12   \n",
    "Output: false (12 is not a happy number)  \n",
    "Explanations: Here are the steps to find out that 12 is not a happy number:\n"
   ]
  },
  {
   "cell_type": "code",
   "execution_count": 14,
   "id": "d5c73466",
   "metadata": {},
   "outputs": [
    {
     "name": "stdout",
     "output_type": "stream",
     "text": [
      "False\n"
     ]
    }
   ],
   "source": [
    "# Condition when only getting solution as 1 is allowed\n",
    "\n",
    "def happy_number(number):\n",
    "    slow = number\n",
    "    fast = number\n",
    "\n",
    "    while True:\n",
    "        slow = square(slow)\n",
    "        fast = square(square(fast))\n",
    "\n",
    "        if slow == fast:\n",
    "            break\n",
    "        \n",
    "    if slow == 1:\n",
    "        return True\n",
    "    else:\n",
    "        return False\n",
    "\n",
    "def square(number):\n",
    "    sum = 0\n",
    "    while number > 0:\n",
    "        digit = number % 10\n",
    "        digit = digit * digit\n",
    "        sum += digit\n",
    "        number //= 10\n",
    "\n",
    "    return sum    \n",
    "\n",
    "print(happy_number(3))\n"
   ]
  },
  {
   "cell_type": "markdown",
   "id": "d7f2880a",
   "metadata": {},
   "source": [
    "# Middle of the LinkedList (easy)\n",
    "\n",
    "### Problem Statement \n",
    "\n",
    "Given the head of a Singly LinkedList, write a method to return the middle node of the LinkedList.\n",
    "\n",
    "If the total number of nodes in the LinkedList is even, return the second middle node.\n",
    "\n",
    "Example 1:\n",
    "\n",
    "Input: 1 -> 2 -> 3 -> 4 -> 5 -> null\n",
    "\n",
    "Output: 3\n",
    "\n",
    "Example 2:\n",
    "\n",
    "Input: 1 -> 2 -> 3 -> 4 -> 5 -> 6 -> null\n",
    "\n",
    "Output: 4\n",
    "\n",
    "Example 3:\n",
    "\n",
    "Input: 1 -> 2 -> 3 -> 4 -> 5 -> 6 -> 7 -> null\n",
    "\n",
    "Output: 4"
   ]
  },
  {
   "cell_type": "code",
   "execution_count": 19,
   "id": "bf63b20f",
   "metadata": {},
   "outputs": [
    {
     "name": "stdout",
     "output_type": "stream",
     "text": [
      "Middle of the Linked List : 3\n"
     ]
    }
   ],
   "source": [
    "class Node:\n",
    "    def __init__(self, value, next = None):\n",
    "        self.value = value\n",
    "        self.next = next\n",
    "\n",
    "def middle_number(head):\n",
    "    slow = head\n",
    "    fast = head\n",
    "\n",
    "    while fast is not None and fast.next is not None:\n",
    "        slow = slow.next\n",
    "        fast = fast.next.next\n",
    "\n",
    "    return slow\n",
    "\n",
    "def main():\n",
    "    head = Node(1)\n",
    "    head.next = Node(2)\n",
    "    head.next.next = Node(3)\n",
    "    head.next.next.next = Node(4)\n",
    "\n",
    "    print(\"Middle of the Linked List : \" + str(middle_number(head).value))\n",
    "\n",
    "main()"
   ]
  },
  {
   "cell_type": "markdown",
   "id": "39050ac7",
   "metadata": {},
   "source": [
    "# Palindrome LinkedList (medium) \n",
    "\n",
    "#### Given the head of a Singly LinkedList, write a method to check if the LinkedList is a palindrome or not.\n",
    "\n",
    "Your algorithm should use constant space and the input LinkedList should be in the original form once the algorithm is finished. The algorithm should have \n",
    "O(N) time complexity where ‘N’ is the number of nodes in the LinkedList.\n",
    "\n",
    "Example 1:\n",
    "\n",
    "Input: 2 -> 4 -> 6 -> 4 -> 2 -> null\n",
    "\n",
    "Output: true\n",
    "\n",
    "Example 2:\n",
    "\n",
    "Input: 2 -> 4 -> 6 -> 4 -> 2 -> 2 -> null\n",
    "\n",
    "Output: false"
   ]
  },
  {
   "cell_type": "code",
   "execution_count": null,
   "id": "ba973836",
   "metadata": {},
   "outputs": [
    {
     "name": "stdout",
     "output_type": "stream",
     "text": [
      "Linked list is a palindrome\n"
     ]
    }
   ],
   "source": [
    "class Node:\n",
    "    def __init__(self, value, next=None):\n",
    "        self.value = value\n",
    "        self.next = next\n",
    "\n",
    "def palindrome_linked_list(head):\n",
    "    slow = head\n",
    "    fast = head\n",
    "\n",
    "    while fast and fast.next:\n",
    "        slow = slow.next\n",
    "        fast = fast.next.next\n",
    "\n",
    "    prev = None\n",
    "    while slow:\n",
    "        temp = slow.next\n",
    "        slow.next = prev\n",
    "        prev = slow\n",
    "        slow = temp\n",
    "\n",
    "    left = head\n",
    "    right = prev\n",
    "    while right:  \n",
    "        if left.value != right.value:\n",
    "            return False\n",
    "        left = left.next\n",
    "        right = right.next\n",
    "\n",
    "    return True\n",
    "\n",
    "def main():\n",
    "    head = Node(1)\n",
    "    head.next = Node(2)\n",
    "    head.next.next = Node(3)\n",
    "    head.next.next.next = Node(2)\n",
    "    head.next.next.next.next = Node(1)\n",
    "    \n",
    "    if palindrome_linked_list(head):\n",
    "        print(\"Linked list is a palindrome\")\n",
    "    else:\n",
    "        print(\"Linked list is not a palindrome\")\n",
    "\n",
    "\n",
    "main()\n"
   ]
  },
  {
   "cell_type": "code",
   "execution_count": null,
   "id": "77de5ee6",
   "metadata": {},
   "outputs": [],
   "source": []
  },
  {
   "cell_type": "code",
   "execution_count": null,
   "id": "6368da82",
   "metadata": {},
   "outputs": [],
   "source": []
  }
 ],
 "metadata": {
  "kernelspec": {
   "display_name": "base",
   "language": "python",
   "name": "python3"
  },
  "language_info": {
   "codemirror_mode": {
    "name": "ipython",
    "version": 3
   },
   "file_extension": ".py",
   "mimetype": "text/x-python",
   "name": "python",
   "nbconvert_exporter": "python",
   "pygments_lexer": "ipython3",
   "version": "3.10.13"
  }
 },
 "nbformat": 4,
 "nbformat_minor": 5
}
