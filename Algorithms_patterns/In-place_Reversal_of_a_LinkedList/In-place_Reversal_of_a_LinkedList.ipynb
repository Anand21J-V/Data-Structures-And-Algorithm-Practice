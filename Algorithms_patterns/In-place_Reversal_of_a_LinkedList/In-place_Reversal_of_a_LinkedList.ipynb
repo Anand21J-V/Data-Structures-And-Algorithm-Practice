{
 "cells": [
  {
   "cell_type": "markdown",
   "id": "7e5f32f7",
   "metadata": {},
   "source": [
    "# Pattern In-place_Reversal_of_a_LinkedList"
   ]
  },
  {
   "cell_type": "markdown",
   "id": "c623f23b",
   "metadata": {},
   "source": [
    "## Reverse a LinkedList (easy)"
   ]
  },
  {
   "cell_type": "markdown",
   "id": "6f1c140a",
   "metadata": {},
   "source": [
    "### Problem Statement \n",
    "\n",
    "Given the head of a Singly LinkedList, reverse the LinkedList. Write a function to return the new head of the reversed LinkedList."
   ]
  },
  {
   "cell_type": "code",
   "execution_count": 9,
   "id": "34e1695f",
   "metadata": {},
   "outputs": [
    {
     "name": "stdout",
     "output_type": "stream",
     "text": [
      "Nodes of original LinkedList are: 2 4 6 8 10 \n",
      "Nodes of reversed LinkedList are: 10 8 6 4 2 \n"
     ]
    }
   ],
   "source": [
    "from __future__ import print_function\n",
    "\n",
    "class Node:\n",
    "    def __init__(self, value, next = None):\n",
    "        self.value = value\n",
    "        self.next = next\n",
    "\n",
    "    def print_list(self):\n",
    "        temp = self\n",
    "        while temp is not None:\n",
    "            print(temp.value, end=\" \")\n",
    "            temp = temp.next\n",
    "        print()    \n",
    "\n",
    "def reverse_linked_list(head):\n",
    "    before, current, after = None, head, None\n",
    "    while current is not None:\n",
    "        next = current.next\n",
    "        current.next = before\n",
    "        before = current\n",
    "        current = next\n",
    "    return before\n",
    "\n",
    "def main():\n",
    "    head = Node(2)\n",
    "    head.next = Node(4)\n",
    "    head.next.next = Node(6)\n",
    "    head.next.next.next = Node(8)\n",
    "    head.next.next.next.next = Node(10)\n",
    "\n",
    "    print(\"Nodes of original LinkedList are: \", end='')\n",
    "    head.print_list()\n",
    "\n",
    "    result = reverse_linked_list(head)\n",
    "\n",
    "    print(\"Nodes of reversed LinkedList are: \", end='')\n",
    "    result.print_list()\n",
    "\n",
    "main()       "
   ]
  },
  {
   "cell_type": "markdown",
   "id": "f56b9eed",
   "metadata": {},
   "source": [
    "## Reverse a Sub-list (medium)\n",
    "\n",
    "### Problem Statement \n",
    "\n",
    "Given the head of a LinkedList and two positions ‘p’ and ‘q’, reverse the LinkedList from position ‘p’ to ‘q’.\n",
    "\n"
   ]
  },
  {
   "cell_type": "code",
   "execution_count": null,
   "id": "97d3d1c9",
   "metadata": {},
   "outputs": [],
   "source": []
  }
 ],
 "metadata": {
  "kernelspec": {
   "display_name": "base",
   "language": "python",
   "name": "python3"
  },
  "language_info": {
   "codemirror_mode": {
    "name": "ipython",
    "version": 3
   },
   "file_extension": ".py",
   "mimetype": "text/x-python",
   "name": "python",
   "nbconvert_exporter": "python",
   "pygments_lexer": "ipython3",
   "version": "3.10.13"
  }
 },
 "nbformat": 4,
 "nbformat_minor": 5
}
