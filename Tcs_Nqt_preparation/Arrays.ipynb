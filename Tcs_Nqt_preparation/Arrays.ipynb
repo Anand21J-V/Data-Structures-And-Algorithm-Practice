{
 "cells": [
  {
   "cell_type": "markdown",
   "id": "14309130",
   "metadata": {},
   "source": [
    "# FIND THE SMALLEST ELEMENT IN AN ARRAY"
   ]
  },
  {
   "cell_type": "code",
   "execution_count": 1,
   "id": "4cbf6a66",
   "metadata": {},
   "outputs": [
    {
     "name": "stdout",
     "output_type": "stream",
     "text": [
      "1\n"
     ]
    }
   ],
   "source": [
    "arr = [10, 8, 6, 5, 1]\n",
    "\n",
    "def smallest_number(arr):\n",
    "    minimum = arr[0]  # Initialize with the first element of the array\n",
    "    for i in range(1, len(arr)):\n",
    "        if arr[i] < minimum:\n",
    "            minimum = arr[i]\n",
    "    return minimum\n",
    "\n",
    "print(smallest_number(arr))"
   ]
  },
  {
   "cell_type": "markdown",
   "id": "65a0e06e",
   "metadata": {},
   "source": [
    "# FIND THE LARGEST ELEMENT IN AN ARRAY"
   ]
  },
  {
   "cell_type": "code",
   "execution_count": 3,
   "id": "b94db2dc",
   "metadata": {},
   "outputs": [
    {
     "name": "stdout",
     "output_type": "stream",
     "text": [
      "80\n"
     ]
    }
   ],
   "source": [
    "arr = [1,2,5,6,3,4,80]\n",
    "\n",
    "def largest_element(arr):\n",
    "    maximum = arr[0]\n",
    "    n = len(arr)\n",
    "\n",
    "    for i in range(1,len(arr)):\n",
    "        if arr[i] > maximum:\n",
    "            maximum = arr[i]\n",
    "\n",
    "    return maximum\n",
    "\n",
    "print(largest_element(arr))        \n"
   ]
  },
  {
   "cell_type": "markdown",
   "id": "54b160ec",
   "metadata": {},
   "source": [
    "# Second Smallest and Second Largest element in an array"
   ]
  },
  {
   "cell_type": "code",
   "execution_count": null,
   "id": "bb7cb1b5",
   "metadata": {},
   "outputs": [],
   "source": [
    "arr = [10,5,6,61,23,81,100]\n",
    "\n",
    "def second_smallest_and_largest(arr):\n",
    "    largest = arr[0]\n",
    "    second_largest = -1\n",
    "\n",
    "    n = len(arr)\n",
    "    for i in range(1,n):\n",
    "        if arr[i] > largest:\n",
    "            second_largest = largest\n",
    "            largest = arr[i]\n",
    "            \n",
    "        "
   ]
  }
 ],
 "metadata": {
  "kernelspec": {
   "display_name": "base",
   "language": "python",
   "name": "python3"
  },
  "language_info": {
   "codemirror_mode": {
    "name": "ipython",
    "version": 3
   },
   "file_extension": ".py",
   "mimetype": "text/x-python",
   "name": "python",
   "nbconvert_exporter": "python",
   "pygments_lexer": "ipython3",
   "version": "3.10.13"
  }
 },
 "nbformat": 4,
 "nbformat_minor": 5
}
