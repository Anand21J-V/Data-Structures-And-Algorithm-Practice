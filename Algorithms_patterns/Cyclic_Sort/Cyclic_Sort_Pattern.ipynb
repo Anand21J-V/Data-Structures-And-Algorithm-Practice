{
 "cells": [
  {
   "cell_type": "markdown",
   "id": "1171ce44",
   "metadata": {},
   "source": [
    "# Cyclic Sort (easy)\n",
    "\n",
    "### Problem Statement \n",
    "\n",
    "We are given an array containing ‘n’ objects. Each object, when created, was assigned a unique number from 1 to ‘n’ based on their creation sequence. This means that the object with sequence number ‘3’ was created just before the object with sequence number ‘4’.\n",
    "\n",
    "Write a function to sort the objects in-place on their creation sequence number in \n",
    "O(n) and without any extra space. For simplicity, let’s assume we are passed an integer array containing only the sequence numbers, though each number is actually an object.\n",
    "\n",
    "Example 1:\n",
    "\n",
    "Input: [3, 1, 5, 4, 2]\n",
    "\n",
    "Output: [1, 2, 3, 4, 5]\n",
    "Example 2:\n",
    "\n",
    "\n",
    "Input: [2, 6, 4, 3, 1, 5]\n",
    "\n",
    "Output: [1, 2, 3, 4, 5, 6]\n",
    "\n",
    "Example 3:\n",
    "\n",
    "Input: [1, 5, 6, 4, 3, 2]\n",
    "\n",
    "Output: [1, 2, 3, 4, 5, 6]"
   ]
  },
  {
   "cell_type": "code",
   "execution_count": 10,
   "id": "138854d3",
   "metadata": {},
   "outputs": [
    {
     "name": "stdout",
     "output_type": "stream",
     "text": [
      "Sorted Nums with cyclic sort: [0, 1, 2, 3, 4, 5, 6]\n"
     ]
    }
   ],
   "source": [
    "# When the input has 0 then - j = nums[i] if its ranges from 1 to n then j = nums[i] - 1\n",
    "def cyclic_sort(nums):\n",
    "    i = 0\n",
    "    while i < len(nums):\n",
    "        j = nums[i] \n",
    "        if nums[i] != nums[j]:\n",
    "            nums[i], nums[j] = nums[j], nums[i]\n",
    "        else:\n",
    "            i += 1\n",
    "\n",
    "    return nums\n",
    "\n",
    "print(\"Sorted Nums with cyclic sort: \" + str(cyclic_sort([0,6,5,2,1,4,3])))"
   ]
  },
  {
   "cell_type": "markdown",
   "id": "6abcc7f3",
   "metadata": {},
   "source": [
    "# Find the Missing Number (easy)\n",
    "\n",
    "### Problem Statement \n",
    "We are given an array containing ‘n’ distinct numbers taken from the range 0 to ‘n’. Since the array has only ‘n’ numbers out of the total ‘n+1’ numbers, find the missing number.\n",
    "\n",
    "Example 1:\n",
    "\n",
    "Input: [4, 0, 3, 1]\n",
    "\n",
    "Output: 2\n",
    "\n",
    "Example 2:\n",
    "\n",
    "Input: [8, 3, 5, 2, 4, 6, 0, 1]\n",
    "\n",
    "Output: 7"
   ]
  },
  {
   "cell_type": "code",
   "execution_count": null,
   "id": "08d2e7d5",
   "metadata": {},
   "outputs": [
    {
     "name": "stdout",
     "output_type": "stream",
     "text": [
      "Missing Number is: 3\n"
     ]
    }
   ],
   "source": [
    "def missing_number(nums):\n",
    "    i, n = 0, len(nums)\n",
    "\n",
    "    while i < n:\n",
    "        j = nums[i] \n",
    "        if nums[i] < n and nums[i] != nums[j]:\n",
    "            nums[i], nums[j] = nums[j], nums[i]\n",
    "        else:\n",
    "            i += 1\n",
    "\n",
    "    for i in range(n):\n",
    "        if nums[i] != i:\n",
    "            return i\n",
    "\n",
    "    return n\n",
    "\n",
    "print(\"Missing Number is: \" + str(missing_number([5,4,0,1,2])))                         "
   ]
  },
  {
   "cell_type": "markdown",
   "id": "cb62366a",
   "metadata": {},
   "source": [
    "# Find all Missing Numbers (easy)\n",
    "\n",
    "### Problem Statement \n",
    "\n",
    "We are given an unsorted array containing numbers taken from the range 1 to ‘n’. The array can have duplicates, which means some numbers will be missing. Find all those missing numbers.\n",
    "\n",
    "Example 1:\n",
    "\n",
    "Input: [2, 3, 1, 8, 2, 3, 5, 1]\n",
    "\n",
    "Output: 4, 6, 7\n",
    "\n",
    "Explanation: The array should have all numbers from 1 to 8, due to duplicates 4, 6, and 7 are missing.\n",
    "\n",
    "Example 2:\n",
    "\n",
    "Input: [2, 4, 1, 2]\n",
    "\n",
    "Output: 3\n",
    "\n",
    "Example 3:\n",
    "\n",
    "Input: [2, 3, 2, 1]\n",
    "\n",
    "Output: 4"
   ]
  },
  {
   "cell_type": "code",
   "execution_count": null,
   "id": "61be52a6",
   "metadata": {},
   "outputs": [],
   "source": [
    "def all_missing_numbers(nums):\n",
    "    "
   ]
  }
 ],
 "metadata": {
  "kernelspec": {
   "display_name": "base",
   "language": "python",
   "name": "python3"
  },
  "language_info": {
   "codemirror_mode": {
    "name": "ipython",
    "version": 3
   },
   "file_extension": ".py",
   "mimetype": "text/x-python",
   "name": "python",
   "nbconvert_exporter": "python",
   "pygments_lexer": "ipython3",
   "version": "3.10.13"
  }
 },
 "nbformat": 4,
 "nbformat_minor": 5
}
