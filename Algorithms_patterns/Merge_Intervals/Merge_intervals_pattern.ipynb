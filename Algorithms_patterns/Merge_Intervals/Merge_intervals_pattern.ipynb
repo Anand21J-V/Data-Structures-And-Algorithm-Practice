{
 "cells": [
  {
   "cell_type": "markdown",
   "id": "ef6221a9",
   "metadata": {},
   "source": [
    "# Merge Intervals (medium)"
   ]
  },
  {
   "cell_type": "markdown",
   "id": "b69c08ff",
   "metadata": {},
   "source": [
    "### Problem Statement \n",
    "\n",
    "Given a list of intervals, merge all the overlapping intervals to produce a list that has only mutually exclusive intervals.\n",
    "\n",
    "Example 1:\n",
    "\n",
    "Intervals: [[1,4], [2,5], [7,9]]\n",
    "\n",
    "Output: [[1,5], [7,9]]\n",
    "\n",
    "Explanation: Since the first two intervals [1,4] and [2,5] overlap, we merged them into one [1,5].\n",
    "\n",
    "Example 2:\n",
    "\n",
    "Intervals: [[6,7], [2,4], [5,9]]\n",
    "\n",
    "Output: [[2,4], [5,9]]\n",
    "\n",
    "Explanation: Since the intervals [6,7] and [5,9] overlap, we merged them into one [5,9].\n",
    " \n",
    "Example 3:\n",
    "\n",
    "Intervals: [[1,4], [2,6], [3,5]]\n",
    "\n",
    "Output: [[1,6]]\n",
    "\n",
    "Explanation: Since all the given intervals overlap, we merged them into one."
   ]
  },
  {
   "cell_type": "code",
   "execution_count": null,
   "id": "609831a8",
   "metadata": {},
   "outputs": [
    {
     "name": "stdout",
     "output_type": "stream",
     "text": [
      "Merged Intervals: \n",
      "[1,5]\n",
      "\n",
      "[7,9]\n",
      "\n"
     ]
    }
   ],
   "source": [
    "class Intervals:\n",
    "    def __init__(self, start, end):\n",
    "        self.start = start\n",
    "        self.end = end\n",
    "\n",
    "    def print_intervals(self):\n",
    "        print(\"[\" + str(self.start) + \",\" + str(self.end) + \"]\")\n",
    "\n",
    "def merge_intervals(intervals):\n",
    "    if len(intervals) < 2:\n",
    "        return intervals\n",
    "\n",
    "    # Sorting the intervals according to the start point of the Intervals\n",
    "    intervals.sort(key=lambda x: x.start)\n",
    "\n",
    "    merge_interval = []\n",
    "    start = intervals[0].start\n",
    "    end = intervals[0].end\n",
    "\n",
    "    for i in range(1, len(intervals)):\n",
    "        current = intervals[i]\n",
    "        if current.start <= end:\n",
    "            # Overlapping exists\n",
    "            end = max(end, current.end)\n",
    "        else:\n",
    "            # If not overlapping then append it to the merged_intervals\n",
    "            merge_interval.append(Intervals(start, end))\n",
    "            start = current.start\n",
    "            end = current.end\n",
    "\n",
    "    merge_interval.append(Intervals(start, end))\n",
    "    return merge_interval\n",
    "\n",
    "def main():\n",
    "    print(\"Merged Intervals:\")\n",
    "    for i in merge_intervals([Intervals(1, 4), Intervals(2, 5), Intervals(7, 9)]):\n",
    "        i.print_intervals()\n",
    "        print()\n",
    "\n",
    "main()\n"
   ]
  },
  {
   "cell_type": "markdown",
   "id": "8d7f2e17",
   "metadata": {},
   "source": [
    "# Insert Interval (medium)\n",
    "\n",
    "### Problem Statement \n",
    "\n",
    "Given a list of non-overlapping intervals sorted by their start time, insert a given interval at the correct position and merge all necessary intervals to produce a list that has only mutually exclusive intervals.\n",
    "\n",
    "Example 1:\n",
    "\n",
    "Input: Intervals=[[1,3], [5,7], [8,12]], New Interval=[4,6]\n",
    "\n",
    "Output: [[1,3], [4,7], [8,12]]\n",
    "\n",
    "Explanation: After insertion, since [4,6] overlaps with [5,7], we merged them into one [4,7].\n",
    "\n",
    "Example 2:\n",
    "\n",
    "Input: Intervals=[[1,3], [5,7], [8,12]], New Interval=[4,10]\n",
    "\n",
    "Output: [[1,3], [4,12]]\n",
    "\n",
    "Explanation: After insertion, since [4,10] overlaps with [5,7] & [8,12], we merged them into [4,12].\n",
    "\n",
    "Example 3:\n",
    "\n",
    "Input: Intervals=[[2,3],[5,7]], New Interval=[1,4]\n",
    "\n",
    "Output: [[1,4], [5,7]]\n",
    "\n",
    "Explanation: After insertion, since [1,4] overlaps with [2,3], we merged them into one [1,4]."
   ]
  },
  {
   "cell_type": "code",
   "execution_count": 11,
   "id": "6427a832",
   "metadata": {},
   "outputs": [
    {
     "name": "stdout",
     "output_type": "stream",
     "text": [
      "Intervals after inserting the new_intervals: [[1, 3], [4, 7], [8, 12]]\n",
      "Intervals after inserting the new_intervals: [[1, 3], [4, 12]]\n",
      "Intervals after inserting the new_intervals: [[1, 4], [5, 7]]\n"
     ]
    }
   ],
   "source": [
    "def insert_intervals(intervals, new_intervals):\n",
    "    i, start, end = 0, 0, 1\n",
    "    merged = []\n",
    "\n",
    "    # [1,3] [5, 7] [8, 12]  and  [4,6]\n",
    "\n",
    "    # Cheking whether the end of the interval is less than the new_interval..if it is like that then append it to the merged\n",
    "    while i < len(intervals) and intervals[i][end] < new_intervals[start]:\n",
    "        merged.append(intervals[i])\n",
    "        i += 1\n",
    "\n",
    "    # Now if above case is false then...checkking whether the first element of the interval is smaller than the last element of the new_interval...if that so...update the new_interval and append it to the merged \n",
    "    while i < len(intervals) and intervals[i][start] <= new_intervals[end]:\n",
    "        new_intervals[start] = min(intervals[i][start], new_intervals[start])\n",
    "        new_intervals[end] = max(intervals[i][end], new_intervals[end])\n",
    "        i += 1\n",
    "\n",
    "    # Appending the new updated new_interval\n",
    "    merged.append(new_intervals)\n",
    "\n",
    "    # If any intervals remains then append all the remaining intervals to the merged\n",
    "    while i < len(intervals):\n",
    "        merged.append(intervals[i])\n",
    "        i += 1\n",
    "\n",
    "    return merged\n",
    "\n",
    "def main():\n",
    "    print(\"Intervals after inserting the new_intervals: \"  + str(insert_intervals([[1,3],[5,7],[8,12]],[4,6])))\n",
    "    print(\"Intervals after inserting the new_intervals: \"  + str(insert_intervals([[1,3],[5,7],[8,12]],[4,10])))\n",
    "    print(\"Intervals after inserting the new_intervals: \"  + str(insert_intervals([[2,3],[5,7]],[1,4])))\n",
    "\n",
    "\n",
    "main()\n",
    "\n"
   ]
  },
  {
   "cell_type": "code",
   "execution_count": null,
   "id": "96d20137",
   "metadata": {},
   "outputs": [],
   "source": []
  }
 ],
 "metadata": {
  "kernelspec": {
   "display_name": "base",
   "language": "python",
   "name": "python3"
  },
  "language_info": {
   "codemirror_mode": {
    "name": "ipython",
    "version": 3
   },
   "file_extension": ".py",
   "mimetype": "text/x-python",
   "name": "python",
   "nbconvert_exporter": "python",
   "pygments_lexer": "ipython3",
   "version": "3.10.13"
  }
 },
 "nbformat": 4,
 "nbformat_minor": 5
}
